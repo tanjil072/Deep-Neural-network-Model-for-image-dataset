{
  "nbformat": 4,
  "nbformat_minor": 0,
  "metadata": {
    "colab": {
      "name": "170104072_SoftComputingAssignment2.ipynb",
      "provenance": [],
      "collapsed_sections": []
    },
    "kernelspec": {
      "display_name": "Python 3",
      "name": "python3"
    },
    "language_info": {
      "name": "python"
    },
    "accelerator": "GPU"
  },
  "cells": [
    {
      "cell_type": "markdown",
      "metadata": {
        "id": "8YNjZeGvAi4m"
      },
      "source": [
        "#Importing library"
      ]
    },
    {
      "cell_type": "code",
      "metadata": {
        "id": "g6NXBXAbK3Y3"
      },
      "source": [
        "import matplotlib.pyplot as plt\n",
        "import numpy as np\n",
        "import pandas as pd\n",
        "from numpy import mean\n",
        "import torch\n",
        "from torchvision import datasets, transforms, models\n",
        "from torch.autograd import Variable\n",
        "from torch.utils import data as D\n",
        "import torch\n",
        "from PIL import Image\n",
        "import os\n",
        "import glob\n",
        "import os.path as osp"
      ],
      "execution_count": 1,
      "outputs": []
    },
    {
      "cell_type": "markdown",
      "metadata": {
        "id": "zgPl357PHr-6"
      },
      "source": [
        "#Mount Drive"
      ]
    },
    {
      "cell_type": "code",
      "metadata": {
        "colab": {
          "base_uri": "https://localhost:8080/"
        },
        "id": "3RNXub3WPqKN",
        "outputId": "2ecf9867-ecd0-4769-d4a2-f311b59135e5"
      },
      "source": [
        "from google.colab import drive;\n",
        "drive.mount(\"/content/drive\");"
      ],
      "execution_count": 2,
      "outputs": [
        {
          "output_type": "stream",
          "name": "stdout",
          "text": [
            "Mounted at /content/drive\n"
          ]
        }
      ]
    },
    {
      "cell_type": "code",
      "metadata": {
        "colab": {
          "base_uri": "https://localhost:8080/"
        },
        "id": "P-BXzbT4PqRM",
        "outputId": "32d4b9e4-14f4-4914-a69b-ce865218cf45"
      },
      "source": [
        "df = pd.read_csv(\"/content/drive/MyDrive/4.2 Files/Soft Computing/Assignment 2/training-a.csv\");\n",
        "print(df.head(5));"
      ],
      "execution_count": 3,
      "outputs": [
        {
          "output_type": "stream",
          "name": "stdout",
          "text": [
            "     filename           original filename  ...  contributing team  database name\n",
            "0  a00000.png   Scan_58_digit_5_num_8.png  ...       Buet_Broncos     training-a\n",
            "1  a00001.png   Scan_73_digit_3_num_5.png  ...       Buet_Broncos     training-a\n",
            "2  a00002.png   Scan_18_digit_1_num_3.png  ...       Buet_Broncos     training-a\n",
            "3  a00003.png  Scan_166_digit_7_num_3.png  ...       Buet_Broncos     training-a\n",
            "4  a00004.png  Scan_108_digit_0_num_1.png  ...       Buet_Broncos     training-a\n",
            "\n",
            "[5 rows x 7 columns]\n"
          ]
        }
      ]
    },
    {
      "cell_type": "markdown",
      "metadata": {
        "id": "dbTiuZ5LUe9G"
      },
      "source": [
        "## Droping columns except filename and digit"
      ]
    },
    {
      "cell_type": "code",
      "metadata": {
        "colab": {
          "base_uri": "https://localhost:8080/"
        },
        "id": "lruDFqfyPqWy",
        "outputId": "c82387d9-bca4-436a-99e3-4b9966a288d9"
      },
      "source": [
        "modified_df = df.drop(df.iloc[:,1:3],axis = 1);\n",
        "modified_df = modified_df.drop(modified_df.iloc[:,2:],axis = 1);\n",
        "print(modified_df);\n",
        "print(len(modified_df));"
      ],
      "execution_count": 4,
      "outputs": [
        {
          "output_type": "stream",
          "name": "stdout",
          "text": [
            "         filename  digit\n",
            "0      a00000.png      5\n",
            "1      a00001.png      3\n",
            "2      a00002.png      1\n",
            "3      a00003.png      7\n",
            "4      a00004.png      0\n",
            "...           ...    ...\n",
            "19697  a19697.png      4\n",
            "19698  a19698.png      3\n",
            "19699  a19699.png      8\n",
            "19700  a19700.png      3\n",
            "19701  a19701.png      8\n",
            "\n",
            "[19702 rows x 2 columns]\n",
            "19702\n"
          ]
        }
      ]
    },
    {
      "cell_type": "markdown",
      "metadata": {
        "id": "UqWCpfr2Z95c"
      },
      "source": [
        "## Dataset custom loader\n"
      ]
    },
    {
      "cell_type": "code",
      "metadata": {
        "id": "WUPrTePUh1UK"
      },
      "source": [
        "path = '/content/drive/MyDrive/4.2 Files/Soft Computing/Assignment 2/training-a'"
      ],
      "execution_count": 5,
      "outputs": []
    },
    {
      "cell_type": "code",
      "metadata": {
        "colab": {
          "base_uri": "https://localhost:8080/"
        },
        "id": "tba6S6WcPqcK",
        "outputId": "b3b13114-49ed-401c-b1a7-1bd74c85daca"
      },
      "source": [
        "batch_size = 20;\n",
        "num_iters = 20000;\n",
        "input_dim = 180 * 180; #num_features = 32400\n",
        "output_dim = 10;\n",
        "learning_rate = 0.01;\n",
        "num_nodes_in_hidden_layers = 200;\n",
        "num_hidden_layers = 6;\n",
        "device = torch.device(\"cuda:0\" if torch.cuda.is_available() else \"cpu\")\n",
        "print(device);"
      ],
      "execution_count": null,
      "outputs": [
        {
          "output_type": "stream",
          "name": "stdout",
          "text": [
            "cpu\n"
          ]
        }
      ]
    },
    {
      "cell_type": "markdown",
      "metadata": {
        "id": "tktjPcFCH6SW"
      },
      "source": [
        "#dataset preprocessing"
      ]
    },
    {
      "cell_type": "code",
      "metadata": {
        "id": "-CPpSbChPqg6"
      },
      "source": [
        "class imageDataset(D.Dataset):\n",
        "    def __init__(self, df, root, transform=None):\n",
        "        self.data = df\n",
        "        self.root = root\n",
        "        self.transform = transform\n",
        "        \n",
        "    def __len__(self):\n",
        "        return len(self.data)\n",
        "    \n",
        "    def __getitem__(self, index):\n",
        "        item = self.data.iloc[index]\n",
        "        \n",
        "        path = self.root + \"/\" + item[0]\n",
        "        image = Image.open(path).convert('L')\n",
        "        label = item[1]\n",
        "        \n",
        "        if self.transform is not None:\n",
        "            image = self.transform(image)\n",
        "            \n",
        "        return image, label"
      ],
      "execution_count": null,
      "outputs": []
    },
    {
      "cell_type": "markdown",
      "metadata": {
        "id": "b98b0VvEH_YT"
      },
      "source": [
        "#Normalize"
      ]
    },
    {
      "cell_type": "code",
      "metadata": {
        "id": "qZIEY3ccj-TS"
      },
      "source": [
        "mean = [0.5,]\n",
        "std = [0.5, ]\n",
        "\n",
        "train_transform = transforms.Compose([\n",
        "    transforms.Resize(180),\n",
        "    transforms.RandomRotation(45),\n",
        "    transforms.RandomHorizontalFlip(),\n",
        "    transforms.ToTensor(),\n",
        "    transforms.Normalize(mean, std)\n",
        "])\n"
      ],
      "execution_count": null,
      "outputs": []
    },
    {
      "cell_type": "code",
      "metadata": {
        "id": "2XR_JnZNvwOs"
      },
      "source": [
        "full_dataset  = imageDataset(modified_df, path, train_transform)"
      ],
      "execution_count": null,
      "outputs": []
    },
    {
      "cell_type": "markdown",
      "metadata": {
        "id": "d-GyjGKOIIRB"
      },
      "source": [
        "#Train Test split"
      ]
    },
    {
      "cell_type": "code",
      "metadata": {
        "colab": {
          "base_uri": "https://localhost:8080/"
        },
        "id": "jQa-LEijvwi2",
        "outputId": "6addbfbc-6806-403b-81a1-34efcc9b4124"
      },
      "source": [
        "dataset_size = len(full_dataset);\n",
        "print(dataset_size);\n",
        "indices = list(range(dataset_size));\n",
        "train_dataset_len = int(np.floor(0.8 * dataset_size))\n",
        "print(train_dataset_len);\n",
        "test_dataset_len = dataset_size - train_dataset_len;\n",
        "print(test_dataset_len);\n",
        "train_dataset, test_dataset = D.random_split(full_dataset, lengths=[train_dataset_len, test_dataset_len]);\n",
        "print(train_dataset);\n",
        "print(test_dataset);"
      ],
      "execution_count": null,
      "outputs": [
        {
          "output_type": "stream",
          "name": "stdout",
          "text": [
            "19702\n",
            "15761\n",
            "3941\n",
            "<torch.utils.data.dataset.Subset object at 0x7facbe396850>\n",
            "<torch.utils.data.dataset.Subset object at 0x7facbe396f50>\n"
          ]
        }
      ]
    },
    {
      "cell_type": "code",
      "metadata": {
        "id": "-JhRL-roPqmk"
      },
      "source": [
        "num_epochs = num_iters / (len(train_dataset) / batch_size)\n",
        "num_epochs = int(num_epochs)\n",
        "\n",
        "train_loader = torch.utils.data.DataLoader(dataset=train_dataset, \n",
        "                                           batch_size=batch_size, \n",
        "                                           shuffle=True)   # It's better to shuffle the whole training dataset! \n",
        "\n",
        "test_loader = torch.utils.data.DataLoader(dataset=test_dataset, \n",
        "                                          batch_size=batch_size, \n",
        "                                          shuffle=False)  \n",
        "\n"
      ],
      "execution_count": null,
      "outputs": []
    },
    {
      "cell_type": "markdown",
      "metadata": {
        "id": "mv58isvHISql"
      },
      "source": [
        "#Using Tanh ( hyperbolic tangent activation function)"
      ]
    },
    {
      "cell_type": "code",
      "metadata": {
        "id": "s8NgDVkAPqrj"
      },
      "source": [
        "import torch.nn as nn;\n",
        "class NeuralNetworkModel(nn.Module):\n",
        "    def __init__(self, input_size, num_classes, num_hidden):\n",
        "        super().__init__()\n",
        "        ### 1st hidden layer\n",
        "        self.linear_1 = nn.Linear(input_size, num_hidden)\n",
        "\n",
        "        ### Non-linearity\n",
        "        self.tanh = nn.Tanh()\n",
        "\n",
        "        ### 2nd hidden layer\n",
        "        self.linear_2 = nn.Linear(input_size, num_hidden)\n",
        "\n",
        "        ### Non-linearity\n",
        "        self.tanh = nn.Tanh()\n",
        "\n",
        "        ### 3rd hidden layer\n",
        "        self.linear_3 = nn.Linear(input_size, num_hidden)\n",
        "\n",
        "        ### Non-linearity\n",
        "        self.tanh = nn.Tanh()\n",
        "\n",
        "        ### 4th hidden layer\n",
        "        self.linear_4 = nn.Linear(input_size, num_hidden)\n",
        "\n",
        "        ### Non-linearity\n",
        "        self.tanh = nn.Tanh()\n",
        "\n",
        "        ### 5th hidden layer\n",
        "        self.linear_5 = nn.Linear(input_size, num_hidden)\n",
        "\n",
        "        ### Non-linearity\n",
        "        self.tanh = nn.Tanh()\n",
        "\n",
        "        ### 6th hidden layer\n",
        "        self.linear_6 = nn.Linear(input_size, num_hidden)\n",
        "\n",
        "        ### Non-linearity\n",
        "        self.tanh = nn.Tanh()\n",
        "\n",
        "        ### Output layer\n",
        "        self.linear_out = nn.Linear(num_hidden, num_classes)\n",
        "\n",
        "    def forward(self, x):\n",
        "        # Linear layer\n",
        "        out  = self.linear_1(x)\n",
        "        # Non-linearity\n",
        "        out = self.tanh(out)\n",
        "\n",
        "        # Linear layer\n",
        "        out  = self.linear_2(x)\n",
        "        # Non-linearity\n",
        "        out = self.tanh(out)\n",
        "\n",
        "        # Linear layer\n",
        "        out  = self.linear_3(x)\n",
        "        # Non-linearity\n",
        "        out = self.tanh(out)\n",
        "\n",
        "        # Linear layer\n",
        "        out  = self.linear_4(x)\n",
        "        # Non-linearity\n",
        "        out = self.tanh(out)\n",
        "\n",
        "        # Linear layer\n",
        "        out  = self.linear_5(x)\n",
        "        # Non-linearity\n",
        "        out = self.tanh(out)\n",
        "\n",
        "        # Linear layer\n",
        "        out  = self.linear_6(x)\n",
        "        # Non-linearity\n",
        "        out = self.tanh(out)\n",
        "\n",
        "        # Linear layer (output)\n",
        "        probas  = self.linear_out(out)\n",
        "        return probas"
      ],
      "execution_count": null,
      "outputs": []
    },
    {
      "cell_type": "markdown",
      "metadata": {
        "id": "XBYWwpq8Iks8"
      },
      "source": [
        "# INSTANTIATE MODEL CLASS"
      ]
    },
    {
      "cell_type": "code",
      "metadata": {
        "id": "TBIZdygLmnaN"
      },
      "source": [
        "\n",
        "model = NeuralNetworkModel(input_size = input_dim,\n",
        "                               num_classes = output_dim,\n",
        "                               num_hidden = num_nodes_in_hidden_layers)"
      ],
      "execution_count": null,
      "outputs": []
    },
    {
      "cell_type": "markdown",
      "metadata": {
        "id": "iEkBV4r7IqYR"
      },
      "source": [
        "#loss optimizer"
      ]
    },
    {
      "cell_type": "code",
      "metadata": {
        "id": "HpwUSsb1mnhf"
      },
      "source": [
        "criterion = nn.CrossEntropyLoss()\n",
        "optimizer = torch.optim.SGD(model.parameters(), lr=learning_rate)"
      ],
      "execution_count": null,
      "outputs": []
    },
    {
      "cell_type": "markdown",
      "metadata": {
        "id": "wYUwvEYeIuvA"
      },
      "source": [
        "#train model"
      ]
    },
    {
      "cell_type": "code",
      "metadata": {
        "colab": {
          "base_uri": "https://localhost:8080/"
        },
        "id": "aelW2itJmnlY",
        "outputId": "67201d58-80b0-467a-a74a-1a8597397ca9"
      },
      "source": [
        "iter = 0\n",
        "for epoch in range(num_epochs):\n",
        "    for i, (images, labels) in enumerate(train_loader):\n",
        "\n",
        "        images = images.view(-1, 180*180).to(device)\n",
        "        labels = labels.to(device)\n",
        "\n",
        "        # Clear gradients w.r.t. parameters\n",
        "        optimizer.zero_grad()\n",
        "\n",
        "        # Forward pass to get output/logits\n",
        "        outputs = model(images) \n",
        "\n",
        "        # Calculate Loss: softmax --> cross entropy loss\n",
        "        loss = criterion(outputs, labels)\n",
        "\n",
        "        # Getting gradients w.r.t. parameters\n",
        "        loss.backward()\n",
        "\n",
        "        # Updating parameters\n",
        "        optimizer.step()\n",
        "\n",
        "        iter += 1\n",
        "\n",
        "        if iter % 500 == 0:\n",
        "            # Calculate Accuracy         \n",
        "            correct = 0\n",
        "            total = 0\n",
        "            # Iterate through test dataset\n",
        "            for images, labels in test_loader:\n",
        "               \n",
        "                images = images.view(-1, 180*180).to(device)\n",
        "\n",
        "                # Forward pass only to get logits/output\n",
        "                outputs = model(images)\n",
        "\n",
        "                # Get predictions from the maximum value\n",
        "                _, predicted = torch.max(outputs, 1)\n",
        "\n",
        "                # Total number of labels\n",
        "                total += labels.size(0)\n",
        "\n",
        "\n",
        "                # Total correct predictions\n",
        "                if torch.cuda.is_available():\n",
        "                    correct += (predicted.cpu() == labels.cpu()).sum() \n",
        "                else:\n",
        "                    correct += (predicted == labels).sum()\n",
        "\n",
        "            accuracy = 100 * correct.item() / total\n",
        "\n",
        "            # Print Loss\n",
        "            print('Iteration: {}. Loss: {}. Accuracy: {}'.format(iter, loss.item(), accuracy))"
      ],
      "execution_count": null,
      "outputs": [
        {
          "output_type": "stream",
          "name": "stdout",
          "text": [
            "Iteration: 500. Loss: 2.4283580780029297. Accuracy: 10.555696523724944\n",
            "Iteration: 1000. Loss: 2.2547607421875. Accuracy: 13.169246384166454\n",
            "Iteration: 1500. Loss: 2.114727258682251. Accuracy: 14.640954072570414\n",
            "Iteration: 2000. Loss: 2.2805542945861816. Accuracy: 18.47246891651865\n",
            "Iteration: 2500. Loss: 2.2017154693603516. Accuracy: 19.462065465617865\n",
            "Iteration: 3000. Loss: 1.9450263977050781. Accuracy: 15.630550621669627\n",
            "Iteration: 3500. Loss: 2.2626495361328125. Accuracy: 19.79193098198427\n",
            "Iteration: 4000. Loss: 2.107870578765869. Accuracy: 19.842679522963714\n",
            "Iteration: 4500. Loss: 2.1521270275115967. Accuracy: 17.178381121542756\n",
            "Iteration: 5000. Loss: 2.064502000808716. Accuracy: 15.42755645775184\n",
            "Iteration: 5500. Loss: 2.095858573913574. Accuracy: 22.811469170261354\n",
            "Iteration: 6000. Loss: 2.2459499835968018. Accuracy: 19.36056838365897\n",
            "Iteration: 6500. Loss: 1.9990003108978271. Accuracy: 24.56229383405227\n",
            "Iteration: 7000. Loss: 2.0259270668029785. Accuracy: 22.30398376046689\n",
            "Iteration: 7500. Loss: 2.106254816055298. Accuracy: 23.471200202994165\n",
            "Iteration: 8000. Loss: 1.9989612102508545. Accuracy: 24.080182694747528\n",
            "Iteration: 8500. Loss: 1.7513080835342407. Accuracy: 22.633849276833292\n",
            "Iteration: 9000. Loss: 2.0579781532287598. Accuracy: 22.608475006343568\n",
            "Iteration: 9500. Loss: 1.9795935153961182. Accuracy: 26.71910682567876\n",
            "Iteration: 10000. Loss: 1.7366281747817993. Accuracy: 24.816036538949504\n",
            "Iteration: 10500. Loss: 2.0384554862976074. Accuracy: 24.004059883278355\n",
            "Iteration: 11000. Loss: 1.951392412185669. Accuracy: 24.917533620908397\n",
            "Iteration: 11500. Loss: 2.0176470279693604. Accuracy: 22.354732301446333\n",
            "Iteration: 12000. Loss: 2.0768845081329346. Accuracy: 21.466632834306015\n",
            "Iteration: 12500. Loss: 2.111814022064209. Accuracy: 22.126363867038823\n",
            "Iteration: 13000. Loss: 1.8859691619873047. Accuracy: 23.623445825932503\n",
            "Iteration: 13500. Loss: 1.941522240638733. Accuracy: 25.29814767825425\n",
            "Iteration: 14000. Loss: 1.9412027597427368. Accuracy: 23.242831768586655\n",
            "Iteration: 14500. Loss: 2.102806329727173. Accuracy: 24.25780258817559\n",
            "Iteration: 15000. Loss: 1.6819206476211548. Accuracy: 24.511545293072825\n",
            "Iteration: 15500. Loss: 1.9592771530151367. Accuracy: 24.816036538949504\n",
            "Iteration: 16000. Loss: 2.01918625831604. Accuracy: 25.551890383151484\n",
            "Iteration: 16500. Loss: 1.9612171649932861. Accuracy: 25.551890383151484\n",
            "Iteration: 17000. Loss: 1.9719295501708984. Accuracy: 23.44582593250444\n",
            "Iteration: 17500. Loss: 2.0191917419433594. Accuracy: 24.384673940624207\n",
            "Iteration: 18000. Loss: 1.8199735879898071. Accuracy: 21.314387211367674\n",
            "Iteration: 18500. Loss: 1.7522602081298828. Accuracy: 23.851814260340014\n",
            "Iteration: 19000. Loss: 2.168506622314453. Accuracy: 19.538188277087034\n",
            "Iteration: 19500. Loss: 2.321964979171753. Accuracy: 22.456229383405226\n"
          ]
        }
      ]
    },
    {
      "cell_type": "code",
      "metadata": {
        "colab": {
          "base_uri": "https://localhost:8080/"
        },
        "id": "4cpGGv2md-LN",
        "outputId": "41ae9750-d2f4-46f3-bcd4-4aedaa59468e"
      },
      "source": [
        "loss_exp1 = [2.4283580780029297,2.2547607421875,2.114727258682251,2.2805542945861816,2.2017154693603516,1.9450263977050781,2.2626495361328125,2.107870578765869,\n",
        "             2.1521270275115967,2.064502000808716,2.095858573913574,2.2459499835968018,1.9990003108978271,2.0259270668029785,2.106254816055298,1.9989612102508545,\n",
        "             1.7513080835342407,2.0579781532287598,1.9795935153961182,1.7366281747817993,2.0384554862976074,1.951392412185669,2.0176470279693604,2.0768845081329346,\n",
        "             2.111814022064209,1.8859691619873047,1.941522240638733,1.9412027597427368,2.102806329727173,1.6819206476211548,1.9592771530151367,2.01918625831604,\n",
        "             1.9612171649932861,1.9719295501708984,2.0191917419433594,1.8199735879898071,1.7522602081298828,2.168506622314453,2.321964979171753];\n",
        "print(len(loss_exp1));"
      ],
      "execution_count": 66,
      "outputs": [
        {
          "output_type": "stream",
          "name": "stdout",
          "text": [
            "39\n"
          ]
        }
      ]
    },
    {
      "cell_type": "markdown",
      "metadata": {
        "id": "_7sGU69N27xx"
      },
      "source": [
        "##Batch=50"
      ]
    },
    {
      "cell_type": "code",
      "metadata": {
        "id": "U5dAvXwb8ZjB",
        "colab": {
          "base_uri": "https://localhost:8080/"
        },
        "outputId": "1b1f8e09-0f02-41df-b416-1f4245346096"
      },
      "source": [
        "batch_size = 50;\n",
        "num_iters = 30000;\n",
        "input_dim = 180 * 180; #num_features = 32400\n",
        "output_dim = 10;\n",
        "learning_rate = 0.01;\n",
        "num_nodes_in_hidden_layers = 200;\n",
        "num_hidden_layers = 3;\n",
        "device = torch.device(\"cuda:0\" if torch.cuda.is_available() else \"cpu\")\n",
        "print(device);"
      ],
      "execution_count": null,
      "outputs": [
        {
          "output_type": "stream",
          "name": "stdout",
          "text": [
            "cpu\n"
          ]
        }
      ]
    },
    {
      "cell_type": "code",
      "metadata": {
        "id": "rLEYOoTV8Zqi"
      },
      "source": [
        "class imageDataset(D.Dataset):\n",
        "    def __init__(self, df, root, transform=None):\n",
        "        self.data = df\n",
        "        self.root = root\n",
        "        self.transform = transform\n",
        "        \n",
        "    def __len__(self):\n",
        "        return len(self.data)\n",
        "    \n",
        "    def __getitem__(self, index):\n",
        "        item = self.data.iloc[index]\n",
        "        \n",
        "        path = self.root + \"/\" + item[0]\n",
        "        image = Image.open(path).convert('L')\n",
        "        label = item[1]\n",
        "        \n",
        "        if self.transform is not None:\n",
        "            image = self.transform(image)\n",
        "            \n",
        "        return image, label"
      ],
      "execution_count": null,
      "outputs": []
    },
    {
      "cell_type": "code",
      "metadata": {
        "id": "s6Y6UZLy8Zve"
      },
      "source": [
        "mean = [0.5,]\n",
        "std = [0.5, ]\n",
        "\n",
        "train_transform = transforms.Compose([\n",
        "    transforms.Resize(180),\n",
        "    transforms.RandomRotation(30),\n",
        "    transforms.RandomHorizontalFlip(),\n",
        "    transforms.ToTensor(),\n",
        "    transforms.Normalize(mean, std)\n",
        "])\n"
      ],
      "execution_count": null,
      "outputs": []
    },
    {
      "cell_type": "code",
      "metadata": {
        "id": "rXrJ8aAc8Z1S"
      },
      "source": [
        "full_dataset  = imageDataset(modified_df, path, train_transform)"
      ],
      "execution_count": null,
      "outputs": []
    },
    {
      "cell_type": "code",
      "metadata": {
        "id": "16xiQ0O68Z6f",
        "colab": {
          "base_uri": "https://localhost:8080/"
        },
        "outputId": "57e0f2bc-492a-4a7a-8aaa-115c7c643431"
      },
      "source": [
        "dataset_size = len(full_dataset);\n",
        "print(dataset_size);\n",
        "indices = list(range(dataset_size));\n",
        "train_dataset_len = int(np.floor(0.8 * dataset_size))\n",
        "print(train_dataset_len);\n",
        "test_dataset_len = dataset_size - train_dataset_len;\n",
        "print(test_dataset_len);\n",
        "train_dataset, test_dataset = D.random_split(full_dataset, lengths=[train_dataset_len, test_dataset_len]);\n",
        "print(len(train_dataset));\n",
        "print(len(test_dataset));\n"
      ],
      "execution_count": null,
      "outputs": [
        {
          "output_type": "stream",
          "name": "stdout",
          "text": [
            "19702\n",
            "15761\n",
            "3941\n",
            "15761\n",
            "3941\n"
          ]
        }
      ]
    },
    {
      "cell_type": "code",
      "metadata": {
        "id": "Oe8Uuwos8Z-9",
        "colab": {
          "base_uri": "https://localhost:8080/"
        },
        "outputId": "b578af7e-b38c-4d3c-ec0a-af14ba662c7c"
      },
      "source": [
        "num_epochs = num_iters / (len(train_dataset) / batch_size)\n",
        "num_epochs = int(num_epochs)\n",
        "\n",
        "train_loader = torch.utils.data.DataLoader(dataset=train_dataset, \n",
        "                                           batch_size=batch_size, \n",
        "                                           shuffle=True)   # It's better to shuffle the whole training dataset! \n",
        "\n",
        "test_loader = torch.utils.data.DataLoader(dataset=test_dataset, \n",
        "                                          batch_size=batch_size, \n",
        "                                          shuffle=False)  \n",
        "\n",
        "print(len(train_loader));\n",
        "print(len(test_loader));"
      ],
      "execution_count": null,
      "outputs": [
        {
          "output_type": "stream",
          "name": "stdout",
          "text": [
            "316\n",
            "79\n"
          ]
        }
      ]
    },
    {
      "cell_type": "code",
      "metadata": {
        "id": "9hOhLiYEEQ31"
      },
      "source": [
        "import torch.nn as nn\n",
        "class DeepNeuralNetworkModel(nn.Module):\n",
        "    def __init__(self, input_size, num_classes, num_hidden):\n",
        "        super().__init__()\n",
        "       \n",
        "        self.linear_1 = nn.Linear(input_size, num_hidden)\n",
        "        \n",
        "        self.relu_1 = nn.ReLU()\n",
        " \n",
        "        \n",
        "        self.linear_2 = nn.Linear(num_hidden, num_hidden)\n",
        "        \n",
        "        self.relu_2 = nn.ReLU()\n",
        " \n",
        "        \n",
        "        self.linear_3 = nn.Linear(num_hidden, num_hidden)\n",
        "        \n",
        "        self.relu_3 = nn.ReLU()\n",
        " \n",
        "        \n",
        "        self.linear_out = nn.Linear(num_hidden, num_classes)\n",
        " \n",
        "    def forward(self, x):\n",
        "        ### 1st hidden layer\n",
        "        out  = self.linear_1(x)\n",
        "        ### Non-linearity in 1st hidden layer\n",
        "        out = self.relu_1(out)\n",
        "        \n",
        "        ### 2nd hidden layer\n",
        "        out  = self.linear_2(out)\n",
        "        ### Non-linearity in 2nd hidden layer\n",
        "        out = self.relu_2(out)\n",
        " \n",
        "        ### 3rd hidden layer\n",
        "        out  = self.linear_3(out)\n",
        "        ### Non-linearity in 3rd hidden layer\n",
        "        out = self.relu_3(out)\n",
        "        \n",
        "        # Linear layer (output)\n",
        "        probas  = self.linear_out(out)\n",
        "        return probas\n",
        " \n",
        "\n",
        "\n",
        " \n"
      ],
      "execution_count": null,
      "outputs": []
    },
    {
      "cell_type": "code",
      "metadata": {
        "colab": {
          "base_uri": "https://localhost:8080/"
        },
        "id": "fFJefolIERCT",
        "outputId": "715f9a66-bf9c-4fb3-e329-f6b74571568e"
      },
      "source": [
        "# INSTANTIATE MODEL CLASS\n",
        " \n",
        "model = DeepNeuralNetworkModel(input_size = input_dim,\n",
        "                               num_classes = output_dim,\n",
        "                               num_hidden = num_nodes_in_hidden_layers)\n",
        "# To enable GPU\n",
        "model.to(device)"
      ],
      "execution_count": null,
      "outputs": [
        {
          "output_type": "execute_result",
          "data": {
            "text/plain": [
              "DeepNeuralNetworkModel(\n",
              "  (linear_1): Linear(in_features=32400, out_features=200, bias=True)\n",
              "  (relu_1): ReLU()\n",
              "  (linear_2): Linear(in_features=200, out_features=200, bias=True)\n",
              "  (relu_2): ReLU()\n",
              "  (linear_3): Linear(in_features=200, out_features=200, bias=True)\n",
              "  (relu_3): ReLU()\n",
              "  (linear_out): Linear(in_features=200, out_features=10, bias=True)\n",
              ")"
            ]
          },
          "metadata": {},
          "execution_count": 23
        }
      ]
    },
    {
      "cell_type": "code",
      "metadata": {
        "id": "0W8xHi_QERMs"
      },
      "source": [
        "# INSTANTIATE LOSS & OPTIMIZER CLASS\n",
        "criterion = nn.CrossEntropyLoss()\n",
        "optimizer = torch.optim.SGD(model.parameters(), lr=learning_rate)"
      ],
      "execution_count": null,
      "outputs": []
    },
    {
      "cell_type": "code",
      "metadata": {
        "colab": {
          "base_uri": "https://localhost:8080/"
        },
        "id": "BB7uSuFfERV8",
        "outputId": "b5890d1c-910c-4924-a09a-9a8be3b0f248"
      },
      "source": [
        "iter = 0\n",
        "for epoch in range(num_epochs):\n",
        "    for i, (images, labels) in enumerate(train_loader):\n",
        " \n",
        "        images = images.view(-1, 180*180).to(device)\n",
        "        labels = labels.to(device)\n",
        " \n",
        "        # Clear gradients w.r.t. parameters\n",
        "        optimizer.zero_grad()\n",
        " \n",
        "        # Forward pass to get output/logits\n",
        "        outputs = model(images) \n",
        " \n",
        "        # Calculate Loss: softmax --> cross entropy loss\n",
        "        loss = criterion(outputs, labels)\n",
        " \n",
        "        # Getting gradients w.r.t. parameters\n",
        "        loss.backward()\n",
        " \n",
        "        # Updating parameters\n",
        "        optimizer.step()\n",
        " \n",
        "        iter += 1\n",
        " \n",
        "        if iter % 500 == 0:\n",
        "            # Calculate Accuracy         \n",
        "            correct = 0\n",
        "            total = 0\n",
        "            # Iterate through test dataset\n",
        "            for images, labels in test_loader:\n",
        "               \n",
        "                images = images.view(-1, 180*180).to(device)\n",
        " \n",
        "                # Forward pass only to get logits/output\n",
        "                outputs = model(images)\n",
        " \n",
        "                # Get predictions from the maximum value\n",
        "                _, predicted = torch.max(outputs, 1)\n",
        " \n",
        "                # Total number of labels\n",
        "                total += labels.size(0)\n",
        " \n",
        " \n",
        "                # Total correct predictions\n",
        "                if torch.cuda.is_available():\n",
        "                    correct += (predicted.cpu() == labels.cpu()).sum() \n",
        "                else:\n",
        "                    correct += (predicted == labels).sum()\n",
        " \n",
        "            accuracy = 100 * correct.item() / total\n",
        " \n",
        "            # Print Loss\n",
        "            print('Iteration: {}. Loss: {}. Accuracy: {}'.format(iter, loss.item(), accuracy))"
      ],
      "execution_count": null,
      "outputs": [
        {
          "output_type": "stream",
          "name": "stdout",
          "text": [
            "Iteration: 500. Loss: 1.0834006071090698. Accuracy: 64.65364120781527\n",
            "Iteration: 1000. Loss: 0.702028751373291. Accuracy: 62.92819081451408\n",
            "Iteration: 1500. Loss: 0.8992939591407776. Accuracy: 67.26719106825679\n",
            "Iteration: 2000. Loss: 0.8857229351997375. Accuracy: 57.57421974118244\n",
            "Iteration: 2500. Loss: 1.2328885793685913. Accuracy: 60.61913219994925\n",
            "Iteration: 3000. Loss: 0.6588881611824036. Accuracy: 65.92235473230144\n",
            "Iteration: 3500. Loss: 0.7187374830245972. Accuracy: 68.58665313372241\n",
            "Iteration: 4000. Loss: 0.7048249840736389. Accuracy: 69.67774676478051\n",
            "Iteration: 4500. Loss: 0.8827683329582214. Accuracy: 65.41486932250697\n",
            "Iteration: 5000. Loss: 0.6872447729110718. Accuracy: 66.15072316670896\n",
            "Iteration: 5500. Loss: 0.9345237016677856. Accuracy: 62.47145394569906\n",
            "Iteration: 6000. Loss: 0.8359250426292419. Accuracy: 63.99391017508247\n",
            "Iteration: 6500. Loss: 0.9958611130714417. Accuracy: 68.10454199441766\n",
            "Iteration: 7000. Loss: 0.6835382580757141. Accuracy: 69.85536665820858\n",
            "Iteration: 7500. Loss: 0.8281465172767639. Accuracy: 68.9165186500888\n",
            "Iteration: 8000. Loss: 0.7428023815155029. Accuracy: 68.89114437959908\n",
            "Iteration: 8500. Loss: 0.7334104776382446. Accuracy: 69.70312103527024\n",
            "Iteration: 9000. Loss: 0.655303955078125. Accuracy: 68.23141334686628\n",
            "Iteration: 9500. Loss: 0.9008578658103943. Accuracy: 67.03882263384928\n",
            "Iteration: 10000. Loss: 0.7751531004905701. Accuracy: 67.064196904339\n",
            "Iteration: 10500. Loss: 0.7628228068351746. Accuracy: 68.30753615833545\n",
            "Iteration: 11000. Loss: 0.5974658727645874. Accuracy: 70.9718345597564\n",
            "Iteration: 11500. Loss: 0.6093656420707703. Accuracy: 69.9822380106572\n",
            "Iteration: 12000. Loss: 0.44996628165245056. Accuracy: 72.31667089571175\n",
            "Iteration: 12500. Loss: 0.8790664672851562. Accuracy: 69.37325551890383\n",
            "Iteration: 13000. Loss: 1.1590827703475952. Accuracy: 69.62699822380107\n",
            "Iteration: 13500. Loss: 0.49693557620048523. Accuracy: 69.14488708449632\n",
            "Iteration: 14000. Loss: 0.9975172281265259. Accuracy: 69.93148946967774\n",
            "Iteration: 14500. Loss: 0.6551029086112976. Accuracy: 70.69271758436945\n",
            "Iteration: 15000. Loss: 0.8672613501548767. Accuracy: 71.27632580563309\n",
            "Iteration: 15500. Loss: 0.8021856546401978. Accuracy: 70.00761228114692\n",
            "Iteration: 16000. Loss: 0.814137876033783. Accuracy: 70.08373509261608\n",
            "Iteration: 16500. Loss: 0.7533636689186096. Accuracy: 72.82415630550622\n",
            "Iteration: 17000. Loss: 0.8716011643409729. Accuracy: 71.78381121542756\n",
            "Iteration: 17500. Loss: 1.5936181545257568. Accuracy: 71.63156559248921\n",
            "Iteration: 18000. Loss: 0.574654221534729. Accuracy: 71.53006851053033\n",
            "Iteration: 18500. Loss: 0.5856778025627136. Accuracy: 72.51966505962953\n",
            "Iteration: 19000. Loss: 0.39834487438201904. Accuracy: 73.027150469424\n",
            "Iteration: 19500. Loss: 0.7162597179412842. Accuracy: 71.7330626744481\n",
            "Iteration: 20000. Loss: 0.5291657447814941. Accuracy: 72.82415630550622\n",
            "Iteration: 20500. Loss: 0.9734000563621521. Accuracy: 67.87617356001014\n",
            "Iteration: 21000. Loss: 0.5509054660797119. Accuracy: 73.2301446333418\n",
            "Iteration: 21500. Loss: 0.6647824645042419. Accuracy: 74.39736107586907\n",
            "Iteration: 22000. Loss: 0.6828736662864685. Accuracy: 70.03298655163664\n",
            "Iteration: 22500. Loss: 0.5193291902542114. Accuracy: 72.44354224816037\n",
            "Iteration: 23000. Loss: 0.639786958694458. Accuracy: 74.19436691195128\n",
            "Iteration: 23500. Loss: 0.46665820479393005. Accuracy: 72.64653641207815\n",
            "Iteration: 24000. Loss: 0.5822591185569763. Accuracy: 74.219741182441\n",
            "Iteration: 24500. Loss: 0.3710491955280304. Accuracy: 75.33620908398883\n",
            "Iteration: 25000. Loss: 0.8607273697853088. Accuracy: 73.7883785841157\n",
            "Iteration: 25500. Loss: 0.7410449981689453. Accuracy: 72.97640192844456\n",
            "Iteration: 26000. Loss: 0.5600713491439819. Accuracy: 71.37782288759198\n",
            "Iteration: 26500. Loss: 0.3397899866104126. Accuracy: 75.99594011672164\n",
            "Iteration: 27000. Loss: 0.4503566026687622. Accuracy: 72.97640192844456\n",
            "Iteration: 27500. Loss: 0.952993631362915. Accuracy: 70.10910936310582\n",
            "Iteration: 28000. Loss: 0.4127630591392517. Accuracy: 75.20933773154022\n",
            "Iteration: 28500. Loss: 0.7307774424552917. Accuracy: 74.70185232174575\n",
            "Iteration: 29000. Loss: 0.6913223266601562. Accuracy: 73.30626744481096\n",
            "Iteration: 29500. Loss: 0.6966129541397095. Accuracy: 72.08830246130424\n",
            "Iteration: 30000. Loss: 0.5731313228607178. Accuracy: 74.01674701852322\n"
          ]
        }
      ]
    },
    {
      "cell_type": "code",
      "metadata": {
        "colab": {
          "base_uri": "https://localhost:8080/"
        },
        "id": "swbQ-GgsJYtJ",
        "outputId": "65ff1c74-6b59-4224-d3d0-46aeb67e204f"
      },
      "source": [
        "loss_exp2 = [1.0834006071090698,0.702028751373291,0.8992939591407776,0.8857229351997375,1.2328885793685913,0.6588881611824036,0.7187374830245972,\n",
        "             0.7048249840736389,0.8827683329582214,0.6872447729110718,0.9345237016677856,0.8359250426292419, 0.9958611130714417,0.6835382580757141,\n",
        "             0.8281465172767639,0.7428023815155029,0.7334104776382446,0.655303955078125,0.9008578658103943,0.7751531004905701,0.7628228068351746,\n",
        "             0.5974658727645874, 0.6093656420707703,0.44996628165245056,0.8790664672851562,1.1590827703475952,0.49693557620048523,0.9975172281265259,\n",
        "             0.6551029086112976,0.8672613501548767,0.8021856546401978,0.814137876033783,0.7533636689186096, 0.8716011643409729,1.5936181545257568, 0.574654221534729,\n",
        "             0.5856778025627136,0.39834487438201904,0.7162597179412842,0.5291657447814941,0.9734000563621521,0.5509054660797119,0.6647824645042419,0.6828736662864685,\n",
        "             0.5193291902542114,0.639786958694458,0.46665820479393005,0.5822591185569763,0.3710491955280304,0.8607273697853088,0.7410449981689453,0.5600713491439819,\n",
        "             0.3397899866104126,0.4503566026687622,0.952993631362915,0.4127630591392517,0.7307774424552917,0.6913223266601562,0.6966129541397095,0.5731313228607178\n",
        "             ];\n",
        "print(len(loss_exp2));"
      ],
      "execution_count": 87,
      "outputs": [
        {
          "output_type": "stream",
          "name": "stdout",
          "text": [
            "60\n"
          ]
        }
      ]
    },
    {
      "cell_type": "code",
      "metadata": {
        "colab": {
          "base_uri": "https://localhost:8080/"
        },
        "id": "DKuEwzt1KBMc",
        "outputId": "8bb2cb03-d5e1-4767-e410-128a98d22013"
      },
      "source": [
        "iterations = list(range(500,30500,500));\n",
        "print(len(iterations));"
      ],
      "execution_count": 88,
      "outputs": [
        {
          "output_type": "stream",
          "name": "stdout",
          "text": [
            "60\n"
          ]
        }
      ]
    },
    {
      "cell_type": "code",
      "metadata": {
        "colab": {
          "base_uri": "https://localhost:8080/",
          "height": 553
        },
        "id": "StfFAd37KHTu",
        "outputId": "358d4ea4-6405-4bd5-804c-dfa26f0c6c95"
      },
      "source": [
        "plt.figure(figsize=(12,6),dpi=100);\n",
        "plt.style.use('seaborn');\n",
        "plt.plot(iterations , loss_exp2, color='blue',label='train loss exp2');\n",
        "plt.title('loss vs iterations');\n",
        "plt.xlabel('iterations');\n",
        "plt.ylabel('loss');\n",
        "plt.grid(True); #create a grid layout\n",
        "plt.legend();\n",
        "plt.show()"
      ],
      "execution_count": 43,
      "outputs": [
        {
          "output_type": "display_data",
          "data": {
            "image/png": "[encoded data removed]",
            "text/plain": [
              "<Figure size 1200x600 with 1 Axes>"
            ]
          },
          "metadata": {}
        }
      ]
    },
    {
      "cell_type": "markdown",
      "metadata": {
        "id": "uq5XhENq2qSp"
      },
      "source": [
        "#Batch=100"
      ]
    },
    {
      "cell_type": "code",
      "metadata": {
        "colab": {
          "base_uri": "https://localhost:8080/"
        },
        "id": "OXAupo1fERg0",
        "outputId": "b19996dc-3453-4d3e-b4ee-8c4c7ed31d88"
      },
      "source": [
        "batch_size = 100;\n",
        "num_iters = 30000;\n",
        "input_dim = 180 * 180; #num_features = 32400\n",
        "output_dim = 10;\n",
        "learning_rate = 0.01;\n",
        "num_nodes_in_hidden_layers = 200;\n",
        "num_hidden_layers = 4;\n",
        "device = torch.device(\"cuda:0\" if torch.cuda.is_available() else \"cpu\")\n",
        "print(device);"
      ],
      "execution_count": null,
      "outputs": [
        {
          "output_type": "stream",
          "name": "stdout",
          "text": [
            "cpu\n"
          ]
        }
      ]
    },
    {
      "cell_type": "code",
      "metadata": {
        "id": "GeA9p9oHnNSU"
      },
      "source": [
        "class imageDataset(D.Dataset):\n",
        "    def __init__(self, df, root, transform=None):\n",
        "        self.data = df\n",
        "        self.root = root\n",
        "        self.transform = transform\n",
        "        \n",
        "    def __len__(self):\n",
        "        return len(self.data)\n",
        "    \n",
        "    def __getitem__(self, index):\n",
        "        item = self.data.iloc[index]\n",
        "        \n",
        "        path = self.root + \"/\" + item[0]\n",
        "        image = Image.open(path).convert('L')\n",
        "        label = item[1]\n",
        "        \n",
        "        if self.transform is not None:\n",
        "            image = self.transform(image)\n",
        "            \n",
        "        return image, label"
      ],
      "execution_count": null,
      "outputs": []
    },
    {
      "cell_type": "code",
      "metadata": {
        "id": "emCC3zxfnNbU"
      },
      "source": [
        "mean = [0.5,]\n",
        "std = [0.5, ]\n",
        "\n",
        "train_transform = transforms.Compose([\n",
        "    transforms.Resize(180),\n",
        "    transforms.RandomRotation(30),\n",
        "    transforms.RandomHorizontalFlip(),\n",
        "    transforms.ToTensor(),\n",
        "    transforms.Normalize(mean, std)\n",
        "])\n"
      ],
      "execution_count": null,
      "outputs": []
    },
    {
      "cell_type": "code",
      "metadata": {
        "id": "ui6qWPUsnNez"
      },
      "source": [
        "full_dataset  = imageDataset(modified_df, path, train_transform)"
      ],
      "execution_count": null,
      "outputs": []
    },
    {
      "cell_type": "code",
      "metadata": {
        "colab": {
          "base_uri": "https://localhost:8080/"
        },
        "id": "gbosShaonNif",
        "outputId": "ba979dd9-0fcd-4226-b570-b51fca88e416"
      },
      "source": [
        "dataset_size = len(full_dataset);\n",
        "print(dataset_size);\n",
        "indices = list(range(dataset_size));\n",
        "train_dataset_len = int(np.floor(0.7 * dataset_size))\n",
        "print(train_dataset_len);\n",
        "test_dataset_len = dataset_size - train_dataset_len;\n",
        "print(test_dataset_len);\n",
        "train_dataset, test_dataset = D.random_split(full_dataset, lengths=[train_dataset_len, test_dataset_len]);\n",
        "print(len(train_dataset));\n",
        "print(len(test_dataset));\n"
      ],
      "execution_count": null,
      "outputs": [
        {
          "output_type": "stream",
          "name": "stdout",
          "text": [
            "19702\n",
            "13791\n",
            "5911\n",
            "13791\n",
            "5911\n"
          ]
        }
      ]
    },
    {
      "cell_type": "code",
      "metadata": {
        "colab": {
          "base_uri": "https://localhost:8080/"
        },
        "id": "E1o1tV6RnNqC",
        "outputId": "5d653c45-0163-42c0-a94f-948481ff6fb1"
      },
      "source": [
        "num_epochs = num_iters / (len(train_dataset) / batch_size)\n",
        "num_epochs = int(num_epochs)\n",
        "\n",
        "train_loader = torch.utils.data.DataLoader(dataset=train_dataset, \n",
        "                                           batch_size=batch_size, \n",
        "                                           shuffle=True)   # It's better to shuffle the whole training dataset! \n",
        "\n",
        "test_loader = torch.utils.data.DataLoader(dataset=test_dataset, \n",
        "                                          batch_size=batch_size, \n",
        "                                          shuffle=False)  \n",
        "\n",
        "print(len(train_loader));\n",
        "print(len(test_loader));"
      ],
      "execution_count": null,
      "outputs": [
        {
          "output_type": "stream",
          "name": "stdout",
          "text": [
            "138\n",
            "60\n"
          ]
        }
      ]
    },
    {
      "cell_type": "code",
      "metadata": {
        "id": "x-HW3Ay-nNui"
      },
      "source": [
        "import torch.nn as nn\n",
        "class DeepNeuralNetworkModel(nn.Module):\n",
        "    def __init__(self, input_size, num_classes, num_hidden):\n",
        "        super().__init__()\n",
        "       \n",
        "        self.linear_1 = nn.Linear(input_size, num_hidden)\n",
        "        \n",
        "        self.relu_1 = nn.ReLU()\n",
        " \n",
        "        \n",
        "        self.linear_2 = nn.Linear(num_hidden, num_hidden)\n",
        "        \n",
        "        self.relu_2 = nn.ReLU()\n",
        " \n",
        "        \n",
        "        self.linear_3 = nn.Linear(num_hidden, num_hidden)\n",
        "        \n",
        "        self.relu_3 = nn.ReLU()\n",
        "\n",
        "        self.linear_4 = nn.Linear(num_hidden, num_hidden)\n",
        "        \n",
        "        self.relu_4 = nn.ReLU()\n",
        " \n",
        "        \n",
        "        self.linear_out = nn.Linear(num_hidden, num_classes)\n",
        " \n",
        "    def forward(self, x):\n",
        "        ### 1st hidden layer\n",
        "        out  = self.linear_1(x)\n",
        "        ### Non-linearity in 1st hidden layer\n",
        "        out = self.relu_1(out)\n",
        "        \n",
        "        ### 2nd hidden layer\n",
        "        out  = self.linear_2(out)\n",
        "        ### Non-linearity in 2nd hidden layer\n",
        "        out = self.relu_2(out)\n",
        " \n",
        "        ### 3rd hidden layer\n",
        "        out  = self.linear_3(out)\n",
        "        ### Non-linearity in 3rd hidden layer\n",
        "        out = self.relu_3(out)\n",
        "\n",
        "        ### 4th hidden layer\n",
        "        out  = self.linear_4(out)\n",
        "        ### Non-linearity in 3rd hidden layer\n",
        "        out = self.relu_4(out)\n",
        "        \n",
        "        # Linear layer (output)\n",
        "        probas  = self.linear_out(out)\n",
        "        return probas\n",
        " \n",
        "\n",
        "\n",
        " \n"
      ],
      "execution_count": null,
      "outputs": []
    },
    {
      "cell_type": "code",
      "metadata": {
        "colab": {
          "base_uri": "https://localhost:8080/"
        },
        "id": "IOd63XBLnNxh",
        "outputId": "47e2f800-63a3-4423-f890-da0d5c00b312"
      },
      "source": [
        "# INSTANTIATE MODEL CLASS\n",
        " \n",
        "model = DeepNeuralNetworkModel(input_size = input_dim,\n",
        "                               num_classes = output_dim,\n",
        "                               num_hidden = num_nodes_in_hidden_layers)\n",
        "# To enable GPU\n",
        "model.to(device)"
      ],
      "execution_count": null,
      "outputs": [
        {
          "output_type": "execute_result",
          "data": {
            "text/plain": [
              "DeepNeuralNetworkModel(\n",
              "  (linear_1): Linear(in_features=32400, out_features=200, bias=True)\n",
              "  (relu_1): ReLU()\n",
              "  (linear_2): Linear(in_features=200, out_features=200, bias=True)\n",
              "  (relu_2): ReLU()\n",
              "  (linear_3): Linear(in_features=200, out_features=200, bias=True)\n",
              "  (relu_3): ReLU()\n",
              "  (linear_4): Linear(in_features=200, out_features=200, bias=True)\n",
              "  (relu_4): ReLU()\n",
              "  (linear_out): Linear(in_features=200, out_features=10, bias=True)\n",
              ")"
            ]
          },
          "metadata": {},
          "execution_count": 53
        }
      ]
    },
    {
      "cell_type": "code",
      "metadata": {
        "id": "55XrCHTlny9r"
      },
      "source": [
        "# INSTANTIATE LOSS & OPTIMIZER CLASS\n",
        "criterion = nn.CrossEntropyLoss()\n",
        "optimizer = torch.optim.SGD(model.parameters(), lr=learning_rate)"
      ],
      "execution_count": null,
      "outputs": []
    },
    {
      "cell_type": "code",
      "metadata": {
        "colab": {
          "base_uri": "https://localhost:8080/"
        },
        "id": "_mV278PbnzGL",
        "outputId": "0da37c6c-d6bb-415a-fe35-395f6481d071"
      },
      "source": [
        "iter = 0\n",
        "for epoch in range(num_epochs):\n",
        "    for i, (images, labels) in enumerate(train_loader):\n",
        " \n",
        "        images = images.view(-1, 180*180).to(device)\n",
        "        labels = labels.to(device)\n",
        " \n",
        "        # Clear gradients w.r.t. parameters\n",
        "        optimizer.zero_grad()\n",
        " \n",
        "        # Forward pass to get output/logits\n",
        "        outputs = model(images) \n",
        " \n",
        "        # Calculate Loss: softmax --> cross entropy loss\n",
        "        loss = criterion(outputs, labels)\n",
        " \n",
        "        # Getting gradients w.r.t. parameters\n",
        "        loss.backward()\n",
        " \n",
        "        # Updating parameters\n",
        "        optimizer.step()\n",
        " \n",
        "        iter += 1\n",
        " \n",
        "        if iter % 500 == 0:\n",
        "            # Calculate Accuracy         \n",
        "            correct = 0\n",
        "            total = 0\n",
        "            # Iterate through test dataset\n",
        "            for images, labels in test_loader:\n",
        "               \n",
        "                images = images.view(-1, 180*180).to(device)\n",
        " \n",
        "                # Forward pass only to get logits/output\n",
        "                outputs = model(images)\n",
        " \n",
        "                # Get predictions from the maximum value\n",
        "                _, predicted = torch.max(outputs, 1)\n",
        " \n",
        "                # Total number of labels\n",
        "                total += labels.size(0)\n",
        " \n",
        " \n",
        "                # Total correct predictions\n",
        "                if torch.cuda.is_available():\n",
        "                    correct += (predicted.cpu() == labels.cpu()).sum() \n",
        "                else:\n",
        "                    correct += (predicted == labels).sum()\n",
        " \n",
        "            accuracy = 100 * correct.item() / total\n",
        " \n",
        "            # Print Loss\n",
        "            print('Iteration: {}. Loss: {}. Accuracy: {}'.format(iter, loss.item(), accuracy))"
      ],
      "execution_count": null,
      "outputs": [
        {
          "output_type": "stream",
          "name": "stdout",
          "text": [
            "Iteration: 500. Loss: 2.2940142154693604. Accuracy: 11.977668753172052\n",
            "Iteration: 1000. Loss: 2.2842512130737305. Accuracy: 13.161901539502622\n",
            "Iteration: 1500. Loss: 2.219125747680664. Accuracy: 17.949585518524785\n",
            "Iteration: 2000. Loss: 2.1919546127319336. Accuracy: 14.092370157333784\n",
            "Iteration: 2500. Loss: 2.2441840171813965. Accuracy: 22.48350532904754\n",
            "Iteration: 3000. Loss: 2.1472442150115967. Accuracy: 22.61884621891389\n",
            "Iteration: 3500. Loss: 2.030827045440674. Accuracy: 27.372694975469464\n",
            "Iteration: 4000. Loss: 1.843222975730896. Accuracy: 29.216714599898495\n",
            "Iteration: 4500. Loss: 1.9519935846328735. Accuracy: 23.380138724412113\n",
            "Iteration: 5000. Loss: 1.7795361280441284. Accuracy: 37.26949754694637\n",
            "Iteration: 5500. Loss: 2.021439790725708. Accuracy: 35.611571646083576\n",
            "Iteration: 6000. Loss: 1.9602138996124268. Accuracy: 33.09084757232279\n",
            "Iteration: 6500. Loss: 1.8224235773086548. Accuracy: 34.511926915919474\n",
            "Iteration: 7000. Loss: 1.6798664331436157. Accuracy: 39.925562510573506\n",
            "Iteration: 7500. Loss: 1.3731238842010498. Accuracy: 39.09659956014211\n",
            "Iteration: 8000. Loss: 1.5786274671554565. Accuracy: 44.96701065809508\n",
            "Iteration: 8500. Loss: 1.6629101037979126. Accuracy: 40.297749957705975\n",
            "Iteration: 9000. Loss: 1.6770285367965698. Accuracy: 42.59854508543393\n",
            "Iteration: 9500. Loss: 1.5650603771209717. Accuracy: 36.372864151581794\n",
            "Iteration: 10000. Loss: 1.5341306924819946. Accuracy: 40.602266959905265\n",
            "Iteration: 10500. Loss: 1.4682552814483643. Accuracy: 38.030790052444594\n",
            "Iteration: 11000. Loss: 1.6348248720169067. Accuracy: 44.121130096430385\n",
            "Iteration: 11500. Loss: 1.366936445236206. Accuracy: 46.86178311622399\n",
            "Iteration: 12000. Loss: 2.0265157222747803. Accuracy: 41.70191169006936\n",
            "Iteration: 12500. Loss: 1.4569393396377563. Accuracy: 42.75080358653358\n",
            "Iteration: 13000. Loss: 1.5158371925354004. Accuracy: 51.17577398071392\n",
            "Iteration: 13500. Loss: 1.2908817529678345. Accuracy: 55.083742175604804\n",
            "Iteration: 14000. Loss: 1.268243432044983. Accuracy: 49.3148367450516\n",
            "Iteration: 14500. Loss: 1.3049174547195435. Accuracy: 52.74911182541025\n",
            "Iteration: 15000. Loss: 1.1819819211959839. Accuracy: 54.91456606327186\n",
            "Iteration: 15500. Loss: 1.3068008422851562. Accuracy: 52.56301810184402\n",
            "Iteration: 16000. Loss: 1.1688286066055298. Accuracy: 57.2999492471663\n",
            "Iteration: 16500. Loss: 1.259798526763916. Accuracy: 58.6871933682964\n",
            "Iteration: 17000. Loss: 1.1806145906448364. Accuracy: 56.57249196413466\n",
            "Iteration: 17500. Loss: 1.2663969993591309. Accuracy: 57.350702080866185\n",
            "Iteration: 18000. Loss: 1.1062334775924683. Accuracy: 56.55557435290137\n",
            "Iteration: 18500. Loss: 1.120582938194275. Accuracy: 52.867535104043306\n",
            "Iteration: 19000. Loss: 0.9207834601402283. Accuracy: 56.809338521400775\n",
            "Iteration: 19500. Loss: 1.1116057634353638. Accuracy: 54.965318896971745\n",
            "Iteration: 20000. Loss: 0.963106095790863. Accuracy: 58.73794620199628\n",
            "Iteration: 20500. Loss: 1.0741379261016846. Accuracy: 61.850786668922346\n",
            "Iteration: 21000. Loss: 1.0561459064483643. Accuracy: 58.33192353239723\n",
            "Iteration: 21500. Loss: 1.0965666770935059. Accuracy: 55.692776180003385\n",
            "Iteration: 22000. Loss: 1.1008743047714233. Accuracy: 61.74928100152258\n",
            "Iteration: 22500. Loss: 1.0302320718765259. Accuracy: 60.85264760615801\n",
            "Iteration: 23000. Loss: 0.9794403314590454. Accuracy: 63.39028929115209\n"
          ]
        }
      ]
    },
    {
      "cell_type": "code",
      "metadata": {
        "id": "6rmimdAinzK4",
        "colab": {
          "base_uri": "https://localhost:8080/"
        },
        "outputId": "9bc7fab1-598a-4cce-d9a5-514349ee0d4c"
      },
      "source": [
        "loss_exp3 = [2.2940142154693604,2.2842512130737305,2.219125747680664,2.1919546127319336,2.2441840171813965,2.1472442150115967,2.030827045440674,1.843222975730896,1.9519935846328735,\n",
        "             1.7795361280441284,2.021439790725708,1.9602138996124268,1.8224235773086548,1.6798664331436157,1.6798664331436157,1.6798664331436157,1.5650603771209717,1.5341306924819946,1.4682552814483643,1.6348248720169067,\n",
        "             1.366936445236206,2.0265157222747803,1.4569393396377563,1.5158371925354004,1.2908817529678345,1.268243432044983,1.3049174547195435,1.1819819211959839,1.3068008422851562,1.1819819211959839,1.3068008422851562,\n",
        "             1.1688286066055298,1.259798526763916,1.1806145906448364,1.2663969993591309,1.1062334775924683,1.120582938194275,0.9207834601402283,1.1116057634353638,0.963106095790863,1.0741379261016846,1.0561459064483643,\n",
        "             1.0965666770935059,1.1008743047714233,1.0302320718765259,0.9794403314590454\n",
        "\n",
        "             ];\n",
        "print(len(loss_exp3));"
      ],
      "execution_count": 50,
      "outputs": [
        {
          "output_type": "stream",
          "name": "stdout",
          "text": [
            "46\n"
          ]
        }
      ]
    },
    {
      "cell_type": "code",
      "metadata": {
        "id": "MJzkvV24nzUt",
        "colab": {
          "base_uri": "https://localhost:8080/"
        },
        "outputId": "6a301cd8-6b38-4684-afac-c62210f2d68c"
      },
      "source": [
        "iterations = list(range(500,23500,500));\n",
        "print(len(iterations));"
      ],
      "execution_count": 53,
      "outputs": [
        {
          "output_type": "stream",
          "name": "stdout",
          "text": [
            "46\n"
          ]
        }
      ]
    },
    {
      "cell_type": "code",
      "metadata": {
        "id": "lf4ZZwSlaql8",
        "colab": {
          "base_uri": "https://localhost:8080/",
          "height": 553
        },
        "outputId": "fc3cdd3f-7f5a-4b32-aefe-d801acc67dcb"
      },
      "source": [
        "plt.figure(figsize=(12,6),dpi=100);\n",
        "plt.style.use('seaborn');\n",
        "plt.plot(iterations , loss_exp3, color='blue',label='train loss exp3');\n",
        "plt.title('loss vs iterations');\n",
        "plt.xlabel('iterations');\n",
        "plt.ylabel('loss');\n",
        "plt.grid(True); #create a grid layout\n",
        "plt.legend();\n",
        "plt.show()"
      ],
      "execution_count": 55,
      "outputs": [
        {
          "output_type": "display_data",
          "data": {
            "image/png": "[encoded data removed]",
            "text/plain": [
              "<Figure size 1200x600 with 1 Axes>"
            ]
          },
          "metadata": {}
        }
      ]
    },
    {
      "cell_type": "markdown",
      "metadata": {
        "id": "vwG2N5PrMnx-"
      },
      "source": [
        "#Batch=250, Relu, Iteration=30k"
      ]
    },
    {
      "cell_type": "code",
      "metadata": {
        "colab": {
          "base_uri": "https://localhost:8080/"
        },
        "id": "Tvzpa0e_arFc",
        "outputId": "904dda2b-c2f0-4590-c0f2-c56a729da011"
      },
      "source": [
        "batch_size = 270;\n",
        "num_iters = 30000;\n",
        "input_dim = 180 * 180; #num_features = 32400\n",
        "output_dim = 10;\n",
        "learning_rate = 0.01;\n",
        "num_nodes_in_hidden_layers = 200;\n",
        "num_hidden_layers = 3;\n",
        "device = torch.device(\"cuda:0\" if torch.cuda.is_available() else \"cpu\")\n",
        "print(device);"
      ],
      "execution_count": null,
      "outputs": [
        {
          "output_type": "stream",
          "name": "stdout",
          "text": [
            "cuda:0\n"
          ]
        }
      ]
    },
    {
      "cell_type": "code",
      "metadata": {
        "id": "TF6TRbauiSiN"
      },
      "source": [
        "class imageDataset(D.Dataset):\n",
        "    def __init__(self, df, root, transform=None):\n",
        "        self.data = df\n",
        "        self.root = root\n",
        "        self.transform = transform\n",
        "        \n",
        "    def __len__(self):\n",
        "        return len(self.data)\n",
        "    \n",
        "    def __getitem__(self, index):\n",
        "        item = self.data.iloc[index]\n",
        "        \n",
        "        path = self.root + \"/\" + item[0]\n",
        "        image = Image.open(path).convert('L')\n",
        "        label = item[1]\n",
        "        \n",
        "        if self.transform is not None:\n",
        "            image = self.transform(image)\n",
        "            \n",
        "        return image, label"
      ],
      "execution_count": null,
      "outputs": []
    },
    {
      "cell_type": "markdown",
      "metadata": {
        "id": "m1qGaTMaHLPb"
      },
      "source": [
        "##Normalizing "
      ]
    },
    {
      "cell_type": "code",
      "metadata": {
        "id": "fBR63ZNgiSq0"
      },
      "source": [
        "mean = [0.5,]\n",
        "std = [0.5, ]\n",
        "\n",
        "train_transform = transforms.Compose([\n",
        "    transforms.Resize(180),\n",
        "    transforms.RandomRotation(30),\n",
        "    transforms.RandomHorizontalFlip(),\n",
        "    transforms.ToTensor(),\n",
        "    transforms.Normalize(mean, std)\n",
        "])\n"
      ],
      "execution_count": null,
      "outputs": []
    },
    {
      "cell_type": "code",
      "metadata": {
        "id": "pnRozPa9iSsW"
      },
      "source": [
        "full_dataset  = imageDataset(modified_df, path, train_transform)"
      ],
      "execution_count": null,
      "outputs": []
    },
    {
      "cell_type": "markdown",
      "metadata": {
        "id": "ZGf4OJPJG29Y"
      },
      "source": [
        "##Train Test Split"
      ]
    },
    {
      "cell_type": "code",
      "metadata": {
        "colab": {
          "base_uri": "https://localhost:8080/"
        },
        "id": "VVSys4NxiSvY",
        "outputId": "52a4959a-bf19-4eef-dad7-4cf2446fcf71"
      },
      "source": [
        "dataset_size = len(full_dataset);\n",
        "print(dataset_size);\n",
        "indices = list(range(dataset_size));\n",
        "train_dataset_len = int(np.floor(0.8 * dataset_size))\n",
        "print(train_dataset_len);\n",
        "test_dataset_len = dataset_size - train_dataset_len;\n",
        "print(test_dataset_len);\n",
        "train_dataset, test_dataset = D.random_split(full_dataset, lengths=[train_dataset_len, test_dataset_len]);\n",
        "print(len(train_dataset));\n",
        "print(len(test_dataset));\n"
      ],
      "execution_count": null,
      "outputs": [
        {
          "output_type": "stream",
          "name": "stdout",
          "text": [
            "19702\n",
            "15761\n",
            "3941\n",
            "15761\n",
            "3941\n"
          ]
        }
      ]
    },
    {
      "cell_type": "markdown",
      "metadata": {
        "id": "qpVq8_y0HAES"
      },
      "source": [
        "##Dataloader"
      ]
    },
    {
      "cell_type": "code",
      "metadata": {
        "colab": {
          "base_uri": "https://localhost:8080/"
        },
        "id": "7fPo9d2jiS0m",
        "outputId": "602b1e79-10ea-4eb3-f6e4-a2a42ed6083f"
      },
      "source": [
        "num_epochs = num_iters / (len(train_dataset) / batch_size)\n",
        "num_epochs = int(num_epochs)\n",
        "\n",
        "train_loader = torch.utils.data.DataLoader(dataset=train_dataset, \n",
        "                                           batch_size=batch_size, \n",
        "                                           shuffle=True)   # It's better to shuffle the whole training dataset! \n",
        "\n",
        "test_loader = torch.utils.data.DataLoader(dataset=test_dataset, \n",
        "                                          batch_size=batch_size, \n",
        "                                          shuffle=False)  \n",
        "\n",
        "print(len(train_loader));\n",
        "print(len(test_loader));"
      ],
      "execution_count": null,
      "outputs": [
        {
          "output_type": "stream",
          "name": "stdout",
          "text": [
            "59\n",
            "15\n"
          ]
        }
      ]
    },
    {
      "cell_type": "code",
      "metadata": {
        "id": "s4rUxKEiijfd"
      },
      "source": [
        "import torch.nn as nn\n",
        "class DeepNeuralNetworkModel(nn.Module):\n",
        "    def __init__(self, input_size, num_classes, num_hidden):\n",
        "        super().__init__()\n",
        "       \n",
        "        self.linear_1 = nn.Linear(input_size, num_hidden)\n",
        "        \n",
        "        self.relu_1 = nn.ReLU()\n",
        "        \n",
        "        self.linear_2 = nn.Linear(num_hidden, num_hidden)\n",
        "        \n",
        "        self.relu_2 = nn.ReLU()\n",
        "\n",
        "        self.linear_3 = nn.Linear(num_hidden, num_hidden)\n",
        "        \n",
        "        self.relu_3 = nn.ReLU()\n",
        "\n",
        "        # self.linear_4 = nn.Linear(num_hidden, num_hidden)\n",
        "        \n",
        "        # self.relu_4 = nn.ReLU()\n",
        "\n",
        "        # self.linear_5 = nn.Linear(num_hidden, num_hidden)\n",
        "        \n",
        "        # self.relu_5 = nn.ReLU()\n",
        "\n",
        "        # self.linear_6 = nn.Linear(num_hidden, num_hidden)\n",
        "        \n",
        "        # self.relu_6 = nn.ReLU()\n",
        " \n",
        "        \n",
        "        self.linear_out = nn.Linear(num_hidden, num_classes)\n",
        " \n",
        "    def forward(self, x):\n",
        "        ### 1st hidden layer\n",
        "        out  = self.linear_1(x)\n",
        "        ### Non-linearity in 1st hidden layer\n",
        "        out = self.relu_1(out)\n",
        "        \n",
        "        ### 2nd hidden layer\n",
        "        out  = self.linear_2(out)\n",
        "        ### Non-linearity in 2nd hidden layer\n",
        "        out = self.relu_2(out)\n",
        "\n",
        "        ### 3rd hidden layer\n",
        "        out  = self.linear_3(out)\n",
        "        ### Non-linearity in 2nd hidden layer\n",
        "        out = self.relu_3(out)\n",
        "\n",
        "        # ### 4th hidden layer\n",
        "        # out  = self.linear_4(out)\n",
        "        # ### Non-linearity in 2nd hidden layer\n",
        "        # out = self.relu_4(out)\n",
        "\n",
        "        # ### 5th hidden layer\n",
        "        # out  = self.linear_5(out)\n",
        "        # ### Non-linearity in 2nd hidden layer\n",
        "        # out = self.relu_5(out)\n",
        "\n",
        "        # ### 6th hidden layer\n",
        "        # out  = self.linear_6(out)\n",
        "        # ### Non-linearity in 2nd hidden layer\n",
        "        # out = self.relu_6(out)\n",
        " \n",
        "\n",
        "        \n",
        "        # Linear layer (output)\n",
        "        probas  = self.linear_out(out)\n",
        "        return probas\n",
        " \n",
        "\n",
        "\n",
        " \n"
      ],
      "execution_count": null,
      "outputs": []
    },
    {
      "cell_type": "markdown",
      "metadata": {
        "id": "JdhqpbkWHY5K"
      },
      "source": [
        "#INSTANTIATE MODEL CLASS"
      ]
    },
    {
      "cell_type": "code",
      "metadata": {
        "colab": {
          "base_uri": "https://localhost:8080/"
        },
        "id": "YR31rGaJijmP",
        "outputId": "00112a9e-5f7c-409e-a7fa-6c5f7595fdee"
      },
      "source": [
        "model = DeepNeuralNetworkModel(input_size = input_dim,\n",
        "                               num_classes = output_dim,\n",
        "                               num_hidden = num_nodes_in_hidden_layers)\n",
        "# To enable GPU\n",
        "model.to(device)"
      ],
      "execution_count": null,
      "outputs": [
        {
          "output_type": "execute_result",
          "data": {
            "text/plain": [
              "DeepNeuralNetworkModel(\n",
              "  (linear_1): Linear(in_features=32400, out_features=200, bias=True)\n",
              "  (relu_1): ReLU()\n",
              "  (linear_2): Linear(in_features=200, out_features=200, bias=True)\n",
              "  (relu_2): ReLU()\n",
              "  (linear_3): Linear(in_features=200, out_features=200, bias=True)\n",
              "  (relu_3): ReLU()\n",
              "  (linear_out): Linear(in_features=200, out_features=10, bias=True)\n",
              ")"
            ]
          },
          "metadata": {},
          "execution_count": 13
        }
      ]
    },
    {
      "cell_type": "markdown",
      "metadata": {
        "id": "LB5wa3yYHjL4"
      },
      "source": [
        "# INSTANTIATE LOSS & OPTIMIZER CLASS"
      ]
    },
    {
      "cell_type": "code",
      "metadata": {
        "id": "ry-bbxwJijrt"
      },
      "source": [
        "\n",
        "criterion = nn.CrossEntropyLoss()\n",
        "optimizer = torch.optim.SGD(model.parameters(), lr=learning_rate)"
      ],
      "execution_count": null,
      "outputs": []
    },
    {
      "cell_type": "code",
      "metadata": {
        "id": "Q_zcSQvXijwP",
        "colab": {
          "base_uri": "https://localhost:8080/"
        },
        "outputId": "8c8658e5-2d5c-43cc-8e51-9d1e1894173d"
      },
      "source": [
        "iter = 0\n",
        "for epoch in range(num_epochs):\n",
        "    for i, (images, labels) in enumerate(train_loader):\n",
        " \n",
        "        images = images.view(-1, 180*180).to(device)\n",
        "        labels = labels.to(device)\n",
        " \n",
        "        # Clear gradients w.r.t. parameters\n",
        "        optimizer.zero_grad()\n",
        " \n",
        "        # Forward pass to get output/logits\n",
        "        outputs = model(images) \n",
        " \n",
        "        # Calculate Loss: softmax --> cross entropy loss\n",
        "        loss = criterion(outputs, labels)\n",
        " \n",
        "        # Getting gradients w.r.t. parameters\n",
        "        loss.backward()\n",
        " \n",
        "        # Updating parameters\n",
        "        optimizer.step()\n",
        " \n",
        "        iter += 1\n",
        " \n",
        "        if iter % 500 == 0:\n",
        "            # Calculate Accuracy         \n",
        "            correct = 0\n",
        "            total = 0\n",
        "            # Iterate through test dataset\n",
        "            for images, labels in test_loader:\n",
        "               \n",
        "                images = images.view(-1, 180*180).to(device)\n",
        " \n",
        "                # Forward pass only to get logits/output\n",
        "                outputs = model(images)\n",
        " \n",
        "                # Get predictions from the maximum value\n",
        "                _, predicted = torch.max(outputs, 1)\n",
        " \n",
        "                # Total number of labels\n",
        "                total += labels.size(0)\n",
        " \n",
        " \n",
        "                # Total correct predictions\n",
        "                if torch.cuda.is_available():\n",
        "                    correct += (predicted.cpu() == labels.cpu()).sum() \n",
        "                else:\n",
        "                    correct += (predicted == labels).sum()\n",
        " \n",
        "            accuracy = 100 * correct.item() / total\n",
        " \n",
        "            # Print Loss\n",
        "            print('Iteration: {}. Loss: {}. Accuracy: {}'.format(iter, loss.item(), accuracy))"
      ],
      "execution_count": null,
      "outputs": [
        {
          "output_type": "stream",
          "name": "stdout",
          "text": [
            "Iteration: 500. Loss: 2.27030348777771. Accuracy: 17.05150976909414\n",
            "Iteration: 1000. Loss: 2.1378073692321777. Accuracy: 26.92210098959655\n",
            "Iteration: 1500. Loss: 1.9998058080673218. Accuracy: 15.935041867546309\n",
            "Iteration: 2000. Loss: 2.004992723464966. Accuracy: 28.85054554681553\n",
            "Iteration: 2500. Loss: 1.8416515588760376. Accuracy: 20.680030449124587\n",
            "Iteration: 3000. Loss: 1.8034420013427734. Accuracy: 36.41207815275311\n",
            "Iteration: 3500. Loss: 1.7340449094772339. Accuracy: 34.8896219233697\n",
            "Iteration: 4000. Loss: 1.8096699714660645. Accuracy: 36.53894950520173\n",
            "Iteration: 4500. Loss: 1.6913446187973022. Accuracy: 39.50773915249937\n",
            "Iteration: 5000. Loss: 1.528908133506775. Accuracy: 43.288505455468155\n",
            "Iteration: 5500. Loss: 1.5557454824447632. Accuracy: 40.218218726211624\n",
            "Iteration: 6000. Loss: 1.3876230716705322. Accuracy: 47.196143110885565\n",
            "Iteration: 6500. Loss: 1.485954761505127. Accuracy: 45.3945699061152\n",
            "Iteration: 7000. Loss: 1.656793236732483. Accuracy: 45.62293834052271\n",
            "Iteration: 7500. Loss: 1.4403197765350342. Accuracy: 45.09007866023852\n",
            "Iteration: 8000. Loss: 1.8016724586486816. Accuracy: 44.73483887338239\n",
            "Iteration: 8500. Loss: 1.4564579725265503. Accuracy: 45.52144125856382\n",
            "Iteration: 9000. Loss: 1.2463114261627197. Accuracy: 53.59045927429587\n",
            "Iteration: 9500. Loss: 1.145046353340149. Accuracy: 51.53514336462827\n",
            "Iteration: 10000. Loss: 1.4336763620376587. Accuracy: 52.727734077645266\n",
            "Iteration: 10500. Loss: 1.2557017803192139. Accuracy: 53.99644760213144\n",
            "Iteration: 11000. Loss: 1.1539775133132935. Accuracy: 51.38289774168992\n",
            "Iteration: 11500. Loss: 1.1699450016021729. Accuracy: 58.56381629028166\n",
            "Iteration: 12000. Loss: 0.9804643392562866. Accuracy: 59.756407003298655\n",
            "Iteration: 12500. Loss: 1.0662434101104736. Accuracy: 51.306774930220755\n",
            "Iteration: 13000. Loss: 0.9536813497543335. Accuracy: 57.90408525754884\n",
            "Iteration: 13500. Loss: 0.9977675676345825. Accuracy: 58.48769347881248\n",
            "Iteration: 14000. Loss: 1.1430015563964844. Accuracy: 61.228114691702615\n"
          ]
        }
      ]
    },
    {
      "cell_type": "code",
      "metadata": {
        "id": "K53DcdRJjP0E",
        "colab": {
          "base_uri": "https://localhost:8080/"
        },
        "outputId": "94e2da97-de28-4fa5-8e23-6ddbf5b57672"
      },
      "source": [
        "loss_exp4 =[2.2842512130737305,2.1378073692321777,1.9998058080673218,2.004992723464966,1.8416515588760376,1.8034420013427734,1.7340449094772339,1.8096699714660645,1.6913446187973022,\n",
        "              1.528908133506775,1.5557454824447632,1.3876230716705322,1.485954761505127,1.656793236732483,1.4403197765350342,1.8016724586486816,1.4564579725265503,1.2463114261627197,\n",
        "              1.145046353340149,1.4336763620376587,1.2557017803192139,1.1539775133132935,1.1699450016021729,0.9804643392562866,1.0662434101104736,0.9536813497543335,0.9977675676345825,1.1430015563964844];\n",
        "print(len(loss_exp4))"
      ],
      "execution_count": 61,
      "outputs": [
        {
          "output_type": "stream",
          "name": "stdout",
          "text": [
            "28\n"
          ]
        }
      ]
    },
    {
      "cell_type": "code",
      "metadata": {
        "colab": {
          "base_uri": "https://localhost:8080/"
        },
        "id": "ktzR1c-wc9_e",
        "outputId": "47bef4be-e34d-4b92-c157-ce6475084bcf"
      },
      "source": [
        "iterations = list(range(500,14500,500));\n",
        "print(len(iterations));"
      ],
      "execution_count": 62,
      "outputs": [
        {
          "output_type": "stream",
          "name": "stdout",
          "text": [
            "28\n"
          ]
        }
      ]
    },
    {
      "cell_type": "code",
      "metadata": {
        "id": "OqcHZxHTjQC5",
        "colab": {
          "base_uri": "https://localhost:8080/",
          "height": 553
        },
        "outputId": "946f583b-8d45-4d1d-821d-5ee32172503e"
      },
      "source": [
        "plt.figure(figsize=(12,6),dpi=100);\n",
        "plt.style.use('seaborn');\n",
        "plt.plot(iterations , loss_exp4, color='blue',label='train loss exp4');\n",
        "\n",
        "plt.title('loss vs iterations');\n",
        "plt.xlabel('iterations');\n",
        "plt.ylabel('loss');\n",
        "plt.grid(True); #create a grid layout\n",
        "plt.legend();\n",
        "plt.show()"
      ],
      "execution_count": 63,
      "outputs": [
        {
          "output_type": "display_data",
          "data": {
            "image/png": "[encoded data removed]",
            "text/plain": [
              "<Figure size 1200x600 with 1 Axes>"
            ]
          },
          "metadata": {}
        }
      ]
    },
    {
      "cell_type": "code",
      "metadata": {
        "colab": {
          "base_uri": "https://localhost:8080/"
        },
        "id": "CcpVVKCwg1-U",
        "outputId": "ba7b3fff-c17a-4ff5-b9e8-085241fc0e7d"
      },
      "source": [
        "iterations = list(range(500,30500,500));\n",
        "print(len(iterations));"
      ],
      "execution_count": 89,
      "outputs": [
        {
          "output_type": "stream",
          "name": "stdout",
          "text": [
            "60\n"
          ]
        }
      ]
    },
    {
      "cell_type": "markdown",
      "metadata": {
        "id": "I_fvOOzngFAW"
      },
      "source": [
        "#Loss vs Iteration"
      ]
    },
    {
      "cell_type": "code",
      "metadata": {
        "colab": {
          "base_uri": "https://localhost:8080/",
          "height": 553
        },
        "id": "dlHLWlYUgHZc",
        "outputId": "da474421-46c9-4e0e-fda4-f722424e9803"
      },
      "source": [
        "plt.figure(figsize=(12,6),dpi=100);\n",
        "plt.style.use('seaborn');\n",
        "plt.plot(iterations[0:39] , loss_exp1, color='red',label='train loss exp given batch');\n",
        "plt.plot(iterations[0:60] , loss_exp2, color='y',label='train loss exp2');\n",
        "plt.plot(iterations[0:46] , loss_exp3, color='g',label='train loss exp3');\n",
        "plt.plot(iterations[0:28] , loss_exp4, color='b',label='train loss exp4');\n",
        "plt.title('loss vs iterations');\n",
        "plt.xlabel('iterations');\n",
        "plt.ylabel('loss');\n",
        "plt.grid(True); #create a grid layout\n",
        "plt.legend();\n",
        "plt.show()"
      ],
      "execution_count": 90,
      "outputs": [
        {
          "output_type": "display_data",
          "data": {
            "image/png": "[encoded data removed]",
            "text/plain": [
              "<Figure size 1200x600 with 1 Axes>"
            ]
          },
          "metadata": {}
        }
      ]
    },
    {
      "cell_type": "markdown",
      "metadata": {
        "id": "h8GRLRyGYxgK"
      },
      "source": [
        "## Dataset 2"
      ]
    },
    {
      "cell_type": "code",
      "metadata": {
        "id": "suSiLt4vjRr8"
      },
      "source": [
        "import pandas as pd\n",
        "import numpy as np\n",
        "from PIL import Image\n",
        "import matplotlib.pyplot as plt\n",
        "import math;\n",
        "from matplotlib.pyplot import imshow"
      ],
      "execution_count": 182,
      "outputs": []
    },
    {
      "cell_type": "code",
      "metadata": {
        "id": "0jsORN7VYSZG",
        "colab": {
          "base_uri": "https://localhost:8080/"
        },
        "outputId": "3cfc2ae5-3f8d-4ae5-8c43-f503c875ff10"
      },
      "source": [
        "train_df = pd.read_csv(\"/content/drive/MyDrive/4.2 Files/Soft Computing/Assignment 2/Dataset_2/verification_train.csv\");\n",
        "print(df.head(5));"
      ],
      "execution_count": 183,
      "outputs": [
        {
          "output_type": "stream",
          "name": "stdout",
          "text": [
            "     filename           original filename  ...  contributing team  database name\n",
            "0  a00000.png   Scan_58_digit_5_num_8.png  ...       Buet_Broncos     training-a\n",
            "1  a00001.png   Scan_73_digit_3_num_5.png  ...       Buet_Broncos     training-a\n",
            "2  a00002.png   Scan_18_digit_1_num_3.png  ...       Buet_Broncos     training-a\n",
            "3  a00003.png  Scan_166_digit_7_num_3.png  ...       Buet_Broncos     training-a\n",
            "4  a00004.png  Scan_108_digit_0_num_1.png  ...       Buet_Broncos     training-a\n",
            "\n",
            "[5 rows x 7 columns]\n"
          ]
        }
      ]
    },
    {
      "cell_type": "code",
      "metadata": {
        "id": "RGzDuXNZYSt7",
        "colab": {
          "base_uri": "https://localhost:8080/"
        },
        "outputId": "47de4591-cf02-4165-81f0-5a77d03f9e0c"
      },
      "source": [
        "test_df = pd.read_csv(\"/content/drive/MyDrive/4.2 Files/Soft Computing/Assignment 2/Dataset_2/verification_test.csv\");\n",
        "print(df.head(5));"
      ],
      "execution_count": 184,
      "outputs": [
        {
          "output_type": "stream",
          "name": "stdout",
          "text": [
            "     filename           original filename  ...  contributing team  database name\n",
            "0  a00000.png   Scan_58_digit_5_num_8.png  ...       Buet_Broncos     training-a\n",
            "1  a00001.png   Scan_73_digit_3_num_5.png  ...       Buet_Broncos     training-a\n",
            "2  a00002.png   Scan_18_digit_1_num_3.png  ...       Buet_Broncos     training-a\n",
            "3  a00003.png  Scan_166_digit_7_num_3.png  ...       Buet_Broncos     training-a\n",
            "4  a00004.png  Scan_108_digit_0_num_1.png  ...       Buet_Broncos     training-a\n",
            "\n",
            "[5 rows x 7 columns]\n"
          ]
        }
      ]
    },
    {
      "cell_type": "code",
      "metadata": {
        "colab": {
          "base_uri": "https://localhost:8080/",
          "height": 432
        },
        "id": "I1M-3B1sjUut",
        "outputId": "d9b301a3-f837-4a9c-92ea-dec816642974"
      },
      "source": [
        "i = 5 # set any valid index of an image\n",
        "label = train_df.values[i][0] # retrieving label from first colum in dataframe\n",
        "print(label)\n",
        "im_buf = train_df.values[i][1:] # creating flat array of given image\n",
        "print(len(im_buf)); \n",
        "axis_len = int(math.sqrt(im_buf.shape[0])) # calculating the dimensions of the square image\n",
        "print(axis_len);\n",
        "im_array = np.int8(np.reshape(im_buf, (axis_len, axis_len))) # create a 2D array from flat array\n",
        "img = Image.fromarray(im_array, 'L') # convert to a PIL.Image object ('L' is for grayscale)\n",
        "\n",
        "print(f'Label: {label}')\n",
        "imshow(np.asarray(img))\n"
      ],
      "execution_count": 185,
      "outputs": [
        {
          "output_type": "stream",
          "name": "stdout",
          "text": [
            "4\n",
            "784\n",
            "28\n",
            "Label: 4\n"
          ]
        },
        {
          "output_type": "execute_result",
          "data": {
            "text/plain": [
              "<matplotlib.image.AxesImage at 0x7feda6fadcd0>"
            ]
          },
          "metadata": {},
          "execution_count": 185
        },
        {
          "output_type": "display_data",
          "data": {
            "image/png": "[encoded data removed]",
            "text/plain": [
              "<Figure size 576x396 with 1 Axes>"
            ]
          },
          "metadata": {}
        }
      ]
    },
    {
      "cell_type": "code",
      "metadata": {
        "id": "1WkkqPWxjXuy"
      },
      "source": [
        "train_df['pixel12'] = train_df['pixel12'] / 255; #Normalizing"
      ],
      "execution_count": 186,
      "outputs": []
    },
    {
      "cell_type": "code",
      "metadata": {
        "colab": {
          "base_uri": "https://localhost:8080/"
        },
        "id": "zj3JMr0LjaVu",
        "outputId": "ce61a74f-b3d5-4484-d82c-1dc0d7c50117"
      },
      "source": [
        "test_label=test_df['label']\n",
        "train_label=train_df['label']\n",
        "data_names=[test_label,train_label]\n",
        "all_labels=pd.concat(data_names,ignore_index=True)\n",
        "print(all_labels);"
      ],
      "execution_count": 187,
      "outputs": [
        {
          "output_type": "stream",
          "name": "stdout",
          "text": [
            "0        0\n",
            "1        1\n",
            "2        2\n",
            "3        2\n",
            "4        3\n",
            "        ..\n",
            "69995    9\n",
            "69996    1\n",
            "69997    8\n",
            "69998    8\n",
            "69999    7\n",
            "Name: label, Length: 70000, dtype: int64\n"
          ]
        }
      ]
    },
    {
      "cell_type": "code",
      "metadata": {
        "id": "dr-TQVSBjeWQ"
      },
      "source": [
        "data_name=[test_df,train_df]\n",
        "all_image=pd.concat(data_name,ignore_index=True)\n",
        "all_image=all_image.drop(labels='label',axis=1)\n"
      ],
      "execution_count": 189,
      "outputs": []
    },
    {
      "cell_type": "code",
      "metadata": {
        "id": "eCmqF-ZvjgvA"
      },
      "source": [
        "all_image=all_image/255.0\n",
        "all_image=all_image.values.reshape(-1,28,28,1)"
      ],
      "execution_count": 190,
      "outputs": []
    },
    {
      "cell_type": "code",
      "metadata": {
        "colab": {
          "base_uri": "https://localhost:8080/",
          "height": 364
        },
        "id": "GybVDJ3Ojk_N",
        "outputId": "7a1d8e27-4104-4304-a719-dbcb8a708849"
      },
      "source": [
        "show_img = all_image[0].reshape(28, 28)\n",
        "plt.imshow(show_img, cmap='gray')\n",
        "print(all_labels[0])"
      ],
      "execution_count": 191,
      "outputs": [
        {
          "output_type": "stream",
          "name": "stdout",
          "text": [
            "0\n"
          ]
        },
        {
          "output_type": "display_data",
          "data": {
            "image/png": "[encoded data removed]",
            "text/plain": [
              "<Figure size 576x396 with 1 Axes>"
            ]
          },
          "metadata": {}
        }
      ]
    },
    {
      "cell_type": "code",
      "metadata": {
        "id": "XWXoP5-RjnSk"
      },
      "source": [
        "from sklearn.model_selection import train_test_split\n",
        "X_train, X_test, y_train, y_test = train_test_split(all_image, all_labels, test_size=0.2)"
      ],
      "execution_count": 192,
      "outputs": []
    },
    {
      "cell_type": "code",
      "metadata": {
        "colab": {
          "base_uri": "https://localhost:8080/"
        },
        "id": "9HsPmzOyjrIu",
        "outputId": "7938d8c0-7125-44eb-e727-12c4faae8164"
      },
      "source": [
        "train_dataset_zipped = list(zip(X_train,y_train))\n",
        "test_dataset_zipped = list(zip(X_test,y_test))\n",
        "print(len(train_dataset_zipped))\n",
        "print(len(test_dataset_zipped))\n"
      ],
      "execution_count": 193,
      "outputs": [
        {
          "output_type": "stream",
          "name": "stdout",
          "text": [
            "56000\n",
            "14000\n"
          ]
        }
      ]
    },
    {
      "cell_type": "code",
      "metadata": {
        "colab": {
          "base_uri": "https://localhost:8080/"
        },
        "id": "QP7c6aMrjtz2",
        "outputId": "6e4a070e-a479-49c1-9fa5-6fddddce0e3b"
      },
      "source": [
        "batch_size = 20;\n",
        "num_iters = 20000;\n",
        "input_dim = 28*28; #num_features = 784\n",
        "output_dim = 10;\n",
        "learning_rate = 0.01;\n",
        "num_nodes_in_hidden_layers = 200;\n",
        "num_hidden_layers = 6;\n",
        "device = torch.device(\"cuda:0\" if torch.cuda.is_available() else \"cpu\")\n",
        "print(device);"
      ],
      "execution_count": 194,
      "outputs": [
        {
          "output_type": "stream",
          "name": "stdout",
          "text": [
            "cuda:0\n"
          ]
        }
      ]
    },
    {
      "cell_type": "code",
      "metadata": {
        "colab": {
          "base_uri": "https://localhost:8080/"
        },
        "id": "dw6ip5kfjvkQ",
        "outputId": "abe6948b-8176-4abd-b127-9fe274d81d80"
      },
      "source": [
        "num_epochs = num_iters / (len(train_dataset_zipped) / batch_size)\n",
        "num_epochs = int(num_epochs)\n",
        "\n",
        "train_loader = torch.utils.data.DataLoader(dataset=train_dataset_zipped, \n",
        "                                           batch_size=batch_size, \n",
        "                                           shuffle=True)   # It's better to shuffle the whole training dataset! \n",
        "\n",
        "test_loader = torch.utils.data.DataLoader(dataset=test_dataset_zipped, \n",
        "                                          batch_size=batch_size, \n",
        "                                          shuffle=False) \n",
        "print(len(train_loader));\n",
        "print(len(test_loader));"
      ],
      "execution_count": 195,
      "outputs": [
        {
          "output_type": "stream",
          "name": "stdout",
          "text": [
            "2800\n",
            "700\n"
          ]
        }
      ]
    },
    {
      "cell_type": "code",
      "metadata": {
        "id": "_R72av7IjwSo"
      },
      "source": [
        "import torch.nn as nn\n",
        "class DeepNeuralNetworkModel(nn.Module):\n",
        "    def __init__(self, input_size, num_classes, num_hidden):\n",
        "        super().__init__()\n",
        "       \n",
        "        self.linear_1 = nn.Linear(input_size, num_hidden)\n",
        "        \n",
        "        self.relu_1 = nn.ReLU()\n",
        " \n",
        "        \n",
        "        self.linear_2 = nn.Linear(num_hidden, num_hidden)\n",
        "        \n",
        "        self.relu_2 = nn.ReLU()\n",
        " \n",
        "        \n",
        "        self.linear_3 = nn.Linear(num_hidden, num_hidden)\n",
        "        \n",
        "        self.relu_3 = nn.ReLU()\n",
        " \n",
        "         \n",
        "        self.linear_4 = nn.Linear(num_hidden, num_hidden)\n",
        "        \n",
        "        self.relu_4 = nn.ReLU()\n",
        " \n",
        "         \n",
        "        self.linear_5= nn.Linear(num_hidden, num_hidden)\n",
        "        \n",
        "        self.relu_5= nn.ReLU()\n",
        " \n",
        "         \n",
        "        self.linear_6 = nn.Linear(num_hidden, num_hidden)\n",
        "        \n",
        "        self.relu_6 = nn.ReLU()\n",
        " \n",
        "        \n",
        "        self.linear_out = nn.Linear(num_hidden, num_classes)\n",
        " \n",
        "    def forward(self, x):\n",
        "        ### 1st hidden layer\n",
        "        out  = self.linear_1(x)\n",
        "        ### Non-linearity in 1st hidden layer\n",
        "        out = self.relu_1(out)\n",
        "        \n",
        "        ### 2nd hidden layer\n",
        "        out  = self.linear_2(out)\n",
        "        ### Non-linearity in 2nd hidden layer\n",
        "        out = self.relu_2(out)\n",
        " \n",
        "        ### 3rd hidden layer\n",
        "        out  = self.linear_3(out)\n",
        "        ### Non-linearity in 3rd hidden layer\n",
        "        out = self.relu_3(out)\n",
        " \n",
        "        out  = self.linear_4(out)\n",
        "        ### Non-linearity in 3rd hidden layer\n",
        "        out = self.relu_4(out)\n",
        " \n",
        "        out  = self.linear_5(out)\n",
        "        ### Non-linearity in 3rd hidden layer\n",
        "        out = self.relu_5(out)\n",
        " \n",
        "        out  = self.linear_6(out)\n",
        "        ### Non-linearity in 3rd hidden layer\n",
        "        out = self.relu_6(out)\n",
        "        \n",
        "        # Linear layer (output)\n",
        "        probas  = self.linear_out(out)\n",
        "        return probas"
      ],
      "execution_count": 196,
      "outputs": []
    },
    {
      "cell_type": "code",
      "metadata": {
        "colab": {
          "base_uri": "https://localhost:8080/"
        },
        "id": "J_BPcNfJjwYI",
        "outputId": "810368e6-0430-46e2-c84e-1f7a1290fa5b"
      },
      "source": [
        "\n",
        " \n",
        "model = DeepNeuralNetworkModel(input_size = input_dim,\n",
        "                               num_classes = output_dim,\n",
        "                               num_hidden = num_nodes_in_hidden_layers)\n",
        "# To enable GPU\n",
        "model.to(device)"
      ],
      "execution_count": 197,
      "outputs": [
        {
          "output_type": "execute_result",
          "data": {
            "text/plain": [
              "DeepNeuralNetworkModel(\n",
              "  (linear_1): Linear(in_features=784, out_features=200, bias=True)\n",
              "  (relu_1): ReLU()\n",
              "  (linear_2): Linear(in_features=200, out_features=200, bias=True)\n",
              "  (relu_2): ReLU()\n",
              "  (linear_3): Linear(in_features=200, out_features=200, bias=True)\n",
              "  (relu_3): ReLU()\n",
              "  (linear_4): Linear(in_features=200, out_features=200, bias=True)\n",
              "  (relu_4): ReLU()\n",
              "  (linear_5): Linear(in_features=200, out_features=200, bias=True)\n",
              "  (relu_5): ReLU()\n",
              "  (linear_6): Linear(in_features=200, out_features=200, bias=True)\n",
              "  (relu_6): ReLU()\n",
              "  (linear_out): Linear(in_features=200, out_features=10, bias=True)\n",
              ")"
            ]
          },
          "metadata": {},
          "execution_count": 197
        }
      ]
    },
    {
      "cell_type": "code",
      "metadata": {
        "id": "y7s_KsCDjwb-"
      },
      "source": [
        "\n",
        "criterion = nn.CrossEntropyLoss()\n",
        "optimizer = torch.optim.SGD(model.parameters(), lr=learning_rate)"
      ],
      "execution_count": 198,
      "outputs": []
    },
    {
      "cell_type": "code",
      "metadata": {
        "colab": {
          "base_uri": "https://localhost:8080/"
        },
        "id": "3Y2CSJldjwfI",
        "outputId": "548dbd05-9d0a-49a3-fa5f-208309f9c0e2"
      },
      "source": [
        "Iteration_loss =[]\n",
        "iter = 0\n",
        "for epoch in range(num_epochs):\n",
        "    for i, (images, labels) in enumerate(train_loader):\n",
        " \n",
        "        images = images.view(-1, 28*28).to(device)\n",
        "        labels = labels.to(device)\n",
        " \n",
        "        # Clear gradients w.r.t. parameters\n",
        "        optimizer.zero_grad()\n",
        " \n",
        "        # Forward pass to get output/logits\n",
        "        outputs = model(images.float()) \n",
        " \n",
        "        # Calculate Loss: softmax --> cross entropy loss\n",
        "        loss = criterion(outputs, labels)\n",
        " \n",
        "        # Getting gradients w.r.t. parameters\n",
        "        loss.backward()\n",
        " \n",
        "        # Updating parameters\n",
        "        optimizer.step()\n",
        " \n",
        "        iter += 1\n",
        " \n",
        "        if iter % 500 == 0:\n",
        "            # Calculate Accuracy         \n",
        "            correct = 0\n",
        "            total = 0\n",
        "            # Iterate through test dataset\n",
        "            for images, labels in test_loader:\n",
        "               \n",
        "                images = images.view(-1, 28*28).to(device)\n",
        " \n",
        "                # Forward pass only to get logits/output\n",
        "                outputs = model(images.float())\n",
        " \n",
        "                # Get predictions from the maximum value\n",
        "                _, predicted = torch.max(outputs, 1)\n",
        " \n",
        "                # Total number of labels\n",
        "                total += labels.size(0)\n",
        " \n",
        " \n",
        "                # Total correct predictions\n",
        "                if torch.cuda.is_available():\n",
        "                    correct += (predicted.cpu() == labels.cpu()).sum() \n",
        "                else:\n",
        "                    correct += (predicted == labels).sum()\n",
        " \n",
        "            accuracy = 100 * correct.item() / total\n",
        " \n",
        "            # Print Loss\n",
        "            Iteration_loss.append(loss.item())\n",
        "            print('Iteration: {}. Loss: {}. Accuracy: {}'.format(iter, loss.item(), accuracy))"
      ],
      "execution_count": 199,
      "outputs": [
        {
          "output_type": "stream",
          "name": "stdout",
          "text": [
            "Iteration: 500. Loss: 2.2835683822631836. Accuracy: 9.92142857142857\n",
            "Iteration: 1000. Loss: 2.2879674434661865. Accuracy: 9.92142857142857\n",
            "Iteration: 1500. Loss: 2.2992453575134277. Accuracy: 20.84285714285714\n",
            "Iteration: 2000. Loss: 2.2944750785827637. Accuracy: 12.735714285714286\n",
            "Iteration: 2500. Loss: 2.221580982208252. Accuracy: 20.785714285714285\n",
            "Iteration: 3000. Loss: 1.8312244415283203. Accuracy: 23.021428571428572\n",
            "Iteration: 3500. Loss: 1.4372141361236572. Accuracy: 45.35\n",
            "Iteration: 4000. Loss: 1.0781654119491577. Accuracy: 64.60714285714286\n",
            "Iteration: 4500. Loss: 0.8007211685180664. Accuracy: 67.16428571428571\n",
            "Iteration: 5000. Loss: 0.9538942575454712. Accuracy: 66.15714285714286\n",
            "Iteration: 5500. Loss: 0.6379300951957703. Accuracy: 73.19285714285714\n",
            "Iteration: 6000. Loss: 0.8915907740592957. Accuracy: 69.17142857142858\n",
            "Iteration: 6500. Loss: 0.6067347526550293. Accuracy: 76.67857142857143\n",
            "Iteration: 7000. Loss: 0.47185954451560974. Accuracy: 76.10714285714286\n",
            "Iteration: 7500. Loss: 0.5464061498641968. Accuracy: 78.16428571428571\n",
            "Iteration: 8000. Loss: 0.8281024098396301. Accuracy: 76.77857142857142\n",
            "Iteration: 8500. Loss: 0.6950019001960754. Accuracy: 79.15714285714286\n",
            "Iteration: 9000. Loss: 0.547649085521698. Accuracy: 80.02142857142857\n",
            "Iteration: 9500. Loss: 0.6600223779678345. Accuracy: 80.82142857142857\n",
            "Iteration: 10000. Loss: 0.8709182739257812. Accuracy: 80.22857142857143\n",
            "Iteration: 10500. Loss: 0.7054659724235535. Accuracy: 80.34285714285714\n",
            "Iteration: 11000. Loss: 0.7631068825721741. Accuracy: 81.05\n",
            "Iteration: 11500. Loss: 0.38623911142349243. Accuracy: 82.42142857142858\n",
            "Iteration: 12000. Loss: 0.4190899431705475. Accuracy: 80.95714285714286\n",
            "Iteration: 12500. Loss: 0.5513685345649719. Accuracy: 82.93571428571428\n",
            "Iteration: 13000. Loss: 0.3800783157348633. Accuracy: 84.0\n",
            "Iteration: 13500. Loss: 0.8840217590332031. Accuracy: 82.92857142857143\n",
            "Iteration: 14000. Loss: 0.6092041730880737. Accuracy: 83.63571428571429\n",
            "Iteration: 14500. Loss: 0.7491127252578735. Accuracy: 83.58571428571429\n",
            "Iteration: 15000. Loss: 0.24483172595500946. Accuracy: 83.19285714285714\n",
            "Iteration: 15500. Loss: 0.4415956139564514. Accuracy: 82.92857142857143\n",
            "Iteration: 16000. Loss: 0.18703427910804749. Accuracy: 85.28571428571429\n",
            "Iteration: 16500. Loss: 0.4913899898529053. Accuracy: 83.93571428571428\n",
            "Iteration: 17000. Loss: 0.903489887714386. Accuracy: 82.32857142857142\n",
            "Iteration: 17500. Loss: 0.36795732378959656. Accuracy: 85.45\n",
            "Iteration: 18000. Loss: 0.30285006761550903. Accuracy: 85.69285714285714\n",
            "Iteration: 18500. Loss: 0.24096126854419708. Accuracy: 83.05714285714286\n",
            "Iteration: 19000. Loss: 0.3003736734390259. Accuracy: 85.94285714285714\n",
            "Iteration: 19500. Loss: 0.4104580283164978. Accuracy: 85.94285714285714\n"
          ]
        }
      ]
    },
    {
      "cell_type": "markdown",
      "metadata": {
        "id": "YApKskOgkgpW"
      },
      "source": [
        "#Custom Parameters"
      ]
    },
    {
      "cell_type": "code",
      "metadata": {
        "colab": {
          "base_uri": "https://localhost:8080/"
        },
        "id": "C-7sdXlAkdZF",
        "outputId": "cc51e19c-400e-4435-be15-ce3849060380"
      },
      "source": [
        "batch_size = 230;\n",
        "num_iters = 30000;\n",
        "input_dim = 28*28; #num_features = 784\n",
        "output_dim = 10;\n",
        "learning_rate = 0.01;\n",
        "num_nodes_in_hidden_layers = 200;\n",
        "num_hidden_layers = 3;\n",
        "device = torch.device(\"cuda:0\" if torch.cuda.is_available() else \"cpu\")\n",
        "print(device);"
      ],
      "execution_count": 200,
      "outputs": [
        {
          "output_type": "stream",
          "name": "stdout",
          "text": [
            "cuda:0\n"
          ]
        }
      ]
    },
    {
      "cell_type": "code",
      "metadata": {
        "colab": {
          "base_uri": "https://localhost:8080/"
        },
        "id": "d0Ze5GSukdrJ",
        "outputId": "c6e11f32-df76-4cbf-8cfd-b5010abd300d"
      },
      "source": [
        "num_epochs = num_iters / (len(train_dataset_zipped) / batch_size)\n",
        "num_epochs = int(num_epochs)\n",
        "\n",
        "train_loader = torch.utils.data.DataLoader(dataset=train_dataset_zipped, \n",
        "                                           batch_size=batch_size, \n",
        "                                           shuffle=True)   # It's better to shuffle the whole training dataset! \n",
        "\n",
        "test_loader = torch.utils.data.DataLoader(dataset=test_dataset_zipped, \n",
        "                                          batch_size=batch_size, \n",
        "                                          shuffle=False) \n",
        "print(len(train_loader));\n",
        "print(len(test_loader));"
      ],
      "execution_count": 201,
      "outputs": [
        {
          "output_type": "stream",
          "name": "stdout",
          "text": [
            "244\n",
            "61\n"
          ]
        }
      ]
    },
    {
      "cell_type": "code",
      "metadata": {
        "id": "vAoKSQRlkdvT"
      },
      "source": [
        "import torch.nn as nn\n",
        "class DeepNeuralNetworkModel(nn.Module):\n",
        "    def __init__(self, input_size, num_classes, num_hidden):\n",
        "        super().__init__()\n",
        "       \n",
        "        self.linear_1 = nn.Linear(input_size, num_hidden)\n",
        "        \n",
        "        self.relu_1 = nn.ReLU()\n",
        " \n",
        "        \n",
        "        self.linear_2 = nn.Linear(num_hidden, num_hidden)\n",
        "        \n",
        "        self.relu_2 = nn.ReLU()\n",
        " \n",
        "        \n",
        "        self.linear_3 = nn.Linear(num_hidden, num_hidden)\n",
        "        \n",
        "        self.relu_3 = nn.ReLU()\n",
        " \n",
        "        \n",
        "        self.linear_out = nn.Linear(num_hidden, num_classes)\n",
        " \n",
        "    def forward(self, x):\n",
        "        ### 1st hidden layer\n",
        "        out  = self.linear_1(x)\n",
        "        ### Non-linearity in 1st hidden layer\n",
        "        out = self.relu_1(out)\n",
        "        \n",
        "        ### 2nd hidden layer\n",
        "        out  = self.linear_2(out)\n",
        "        ### Non-linearity in 2nd hidden layer\n",
        "        out = self.relu_2(out)\n",
        " \n",
        "        ### 3rd hidden layer\n",
        "        out  = self.linear_3(out)\n",
        "        ### Non-linearity in 3rd hidden layer\n",
        "        out = self.relu_3(out)\n",
        "        \n",
        "        # Linear layer (output)\n",
        "        probas  = self.linear_out(out)\n",
        "        return probas"
      ],
      "execution_count": 202,
      "outputs": []
    },
    {
      "cell_type": "code",
      "metadata": {
        "colab": {
          "base_uri": "https://localhost:8080/"
        },
        "id": "Km4dWoZwkdzZ",
        "outputId": "5819e4ef-8e0e-4114-a815-b0a9e009eac7"
      },
      "source": [
        "model = DeepNeuralNetworkModel(input_size = input_dim,\n",
        "                               num_classes = output_dim,\n",
        "                               num_hidden = num_nodes_in_hidden_layers)\n",
        "model.to(device)"
      ],
      "execution_count": 203,
      "outputs": [
        {
          "output_type": "execute_result",
          "data": {
            "text/plain": [
              "DeepNeuralNetworkModel(\n",
              "  (linear_1): Linear(in_features=784, out_features=200, bias=True)\n",
              "  (relu_1): ReLU()\n",
              "  (linear_2): Linear(in_features=200, out_features=200, bias=True)\n",
              "  (relu_2): ReLU()\n",
              "  (linear_3): Linear(in_features=200, out_features=200, bias=True)\n",
              "  (relu_3): ReLU()\n",
              "  (linear_out): Linear(in_features=200, out_features=10, bias=True)\n",
              ")"
            ]
          },
          "metadata": {},
          "execution_count": 203
        }
      ]
    },
    {
      "cell_type": "code",
      "metadata": {
        "id": "xYQM9IECkw8c"
      },
      "source": [
        "criterion = nn.CrossEntropyLoss()\n",
        "optimizer = torch.optim.SGD(model.parameters(), lr=learning_rate)"
      ],
      "execution_count": 204,
      "outputs": []
    },
    {
      "cell_type": "code",
      "metadata": {
        "colab": {
          "base_uri": "https://localhost:8080/"
        },
        "id": "qkt-cQGNkw_D",
        "outputId": "d8ed4455-7011-4ad4-e89a-258d46d7c369"
      },
      "source": [
        "Iteration_loss1 =[]\n",
        "iter = 0\n",
        "for epoch in range(num_epochs):\n",
        "    for i, (images, labels) in enumerate(train_loader):\n",
        " \n",
        "        images = images.view(-1, 28*28).to(device)\n",
        "        labels = labels.to(device)\n",
        " \n",
        "        # Clear gradients w.r.t. parameters\n",
        "        optimizer.zero_grad()\n",
        " \n",
        "        # Forward pass to get output/logits\n",
        "        outputs = model(images.float()) \n",
        " \n",
        "        # Calculate Loss: softmax --> cross entropy loss\n",
        "        loss = criterion(outputs, labels)\n",
        " \n",
        "        # Getting gradients w.r.t. parameters\n",
        "        loss.backward()\n",
        " \n",
        "        # Updating parameters\n",
        "        optimizer.step()\n",
        " \n",
        "        iter += 1\n",
        " \n",
        "        if iter % 500 == 0:\n",
        "            # Calculate Accuracy         \n",
        "            correct = 0\n",
        "            total = 0\n",
        "            # Iterate through test dataset\n",
        "            for images, labels in test_loader:\n",
        "               \n",
        "                images = images.view(-1, 28*28).to(device)\n",
        " \n",
        "                # Forward pass only to get logits/output\n",
        "                outputs = model(images.float())\n",
        " \n",
        "                # Get predictions from the maximum value\n",
        "                _, predicted = torch.max(outputs, 1)\n",
        " \n",
        "                # Total number of labels\n",
        "                total += labels.size(0)\n",
        " \n",
        " \n",
        "                # Total correct predictions\n",
        "                if torch.cuda.is_available():\n",
        "                    correct += (predicted.cpu() == labels.cpu()).sum() \n",
        "                else:\n",
        "                    correct += (predicted == labels).sum()\n",
        " \n",
        "            accuracy = 100 * correct.item() / total\n",
        " \n",
        "            # Print Loss\n",
        "            Iteration_loss1.append(loss.item())\n",
        "            print('Iteration: {}. Loss: {}. Accuracy: {}'.format(iter, loss.item(), accuracy))"
      ],
      "execution_count": 205,
      "outputs": [
        {
          "output_type": "stream",
          "name": "stdout",
          "text": [
            "Iteration: 500. Loss: 1.8349835872650146. Accuracy: 43.357142857142854\n",
            "Iteration: 1000. Loss: 0.9351196885108948. Accuracy: 63.392857142857146\n",
            "Iteration: 1500. Loss: 0.750800371170044. Accuracy: 71.01428571428572\n",
            "Iteration: 2000. Loss: 0.6813692450523376. Accuracy: 74.71428571428571\n",
            "Iteration: 2500. Loss: 0.5919386744499207. Accuracy: 75.75\n",
            "Iteration: 3000. Loss: 0.5852774977684021. Accuracy: 79.12142857142857\n",
            "Iteration: 3500. Loss: 0.4801918566226959. Accuracy: 80.62857142857143\n",
            "Iteration: 4000. Loss: 0.487911581993103. Accuracy: 81.25714285714285\n",
            "Iteration: 4500. Loss: 0.5668215155601501. Accuracy: 81.95714285714286\n",
            "Iteration: 5000. Loss: 0.47284549474716187. Accuracy: 82.59285714285714\n",
            "Iteration: 5500. Loss: 0.5908993482589722. Accuracy: 82.97142857142858\n",
            "Iteration: 6000. Loss: 0.49229761958122253. Accuracy: 83.33571428571429\n",
            "Iteration: 6500. Loss: 0.4608667492866516. Accuracy: 82.30714285714286\n",
            "Iteration: 7000. Loss: 0.487312376499176. Accuracy: 83.36428571428571\n",
            "Iteration: 7500. Loss: 0.4613347351551056. Accuracy: 84.24285714285715\n",
            "Iteration: 8000. Loss: 0.545923113822937. Accuracy: 84.61428571428571\n",
            "Iteration: 8500. Loss: 0.4197463393211365. Accuracy: 84.43571428571428\n",
            "Iteration: 9000. Loss: 0.43581414222717285. Accuracy: 84.97857142857143\n",
            "Iteration: 9500. Loss: 0.4762438237667084. Accuracy: 85.36428571428571\n",
            "Iteration: 10000. Loss: 0.39728403091430664. Accuracy: 85.28571428571429\n",
            "Iteration: 10500. Loss: 0.43483105301856995. Accuracy: 84.95714285714286\n",
            "Iteration: 11000. Loss: 0.32466742396354675. Accuracy: 85.63571428571429\n",
            "Iteration: 11500. Loss: 0.5173577070236206. Accuracy: 85.48571428571428\n",
            "Iteration: 12000. Loss: 0.338960200548172. Accuracy: 86.06428571428572\n",
            "Iteration: 12500. Loss: 0.37774571776390076. Accuracy: 86.0\n",
            "Iteration: 13000. Loss: 0.38360920548439026. Accuracy: 85.92857142857143\n",
            "Iteration: 13500. Loss: 0.3405771553516388. Accuracy: 86.25714285714285\n",
            "Iteration: 14000. Loss: 0.37405696511268616. Accuracy: 86.27142857142857\n",
            "Iteration: 14500. Loss: 0.4655478894710541. Accuracy: 86.32142857142857\n",
            "Iteration: 15000. Loss: 0.24111275374889374. Accuracy: 86.48571428571428\n",
            "Iteration: 15500. Loss: 0.5086029171943665. Accuracy: 86.47142857142858\n",
            "Iteration: 16000. Loss: 0.3374878466129303. Accuracy: 86.28571428571429\n",
            "Iteration: 16500. Loss: 0.32128214836120605. Accuracy: 86.95714285714286\n",
            "Iteration: 17000. Loss: 0.3717586100101471. Accuracy: 86.67142857142858\n",
            "Iteration: 17500. Loss: 0.3634268641471863. Accuracy: 86.91428571428571\n",
            "Iteration: 18000. Loss: 0.3999720513820648. Accuracy: 87.02857142857142\n",
            "Iteration: 18500. Loss: 0.32462605834007263. Accuracy: 86.97142857142858\n",
            "Iteration: 19000. Loss: 0.33009886741638184. Accuracy: 87.05\n",
            "Iteration: 19500. Loss: 0.36160480976104736. Accuracy: 86.95714285714286\n",
            "Iteration: 20000. Loss: 0.26465657353401184. Accuracy: 87.27857142857142\n",
            "Iteration: 20500. Loss: 0.26768696308135986. Accuracy: 87.23571428571428\n",
            "Iteration: 21000. Loss: 0.3561232089996338. Accuracy: 87.32142857142857\n",
            "Iteration: 21500. Loss: 0.2915405333042145. Accuracy: 87.55714285714286\n",
            "Iteration: 22000. Loss: 0.3643726408481598. Accuracy: 86.99285714285715\n",
            "Iteration: 22500. Loss: 0.3169384300708771. Accuracy: 87.42142857142858\n",
            "Iteration: 23000. Loss: 0.2975641191005707. Accuracy: 87.46428571428571\n",
            "Iteration: 23500. Loss: 0.25319764018058777. Accuracy: 87.37857142857143\n",
            "Iteration: 24000. Loss: 0.3739796280860901. Accuracy: 87.72857142857143\n",
            "Iteration: 24500. Loss: 0.26241549849510193. Accuracy: 87.9\n",
            "Iteration: 25000. Loss: 0.3675057888031006. Accuracy: 86.72857142857143\n",
            "Iteration: 25500. Loss: 0.31146159768104553. Accuracy: 87.72142857142858\n",
            "Iteration: 26000. Loss: 0.28512972593307495. Accuracy: 87.83571428571429\n",
            "Iteration: 26500. Loss: 0.278855562210083. Accuracy: 87.15714285714286\n",
            "Iteration: 27000. Loss: 0.24472974240779877. Accuracy: 87.72142857142858\n",
            "Iteration: 27500. Loss: 0.23779970407485962. Accuracy: 87.97142857142858\n",
            "Iteration: 28000. Loss: 0.2284412831068039. Accuracy: 88.07857142857142\n",
            "Iteration: 28500. Loss: 0.29839855432510376. Accuracy: 87.62142857142857\n",
            "Iteration: 29000. Loss: 0.3093580901622772. Accuracy: 87.79285714285714\n",
            "Iteration: 29500. Loss: 0.35539740324020386. Accuracy: 88.07142857142857\n",
            "Iteration: 30000. Loss: 0.33663299679756165. Accuracy: 87.35714285714286\n"
          ]
        }
      ]
    },
    {
      "cell_type": "code",
      "metadata": {
        "colab": {
          "base_uri": "https://localhost:8080/"
        },
        "id": "YePJzx4EqGBF",
        "outputId": "423d5684-1439-41bf-edd2-f0b1724d5bbc"
      },
      "source": [
        "iterations = list(range(500,30500,500));\n",
        "print(len(iterations));\n"
      ],
      "execution_count": 220,
      "outputs": [
        {
          "output_type": "stream",
          "name": "stdout",
          "text": [
            "60\n"
          ]
        }
      ]
    },
    {
      "cell_type": "code",
      "metadata": {
        "colab": {
          "base_uri": "https://localhost:8080/",
          "height": 553
        },
        "id": "luHQ-t1Mkd3d",
        "outputId": "00342805-5d78-4665-89e8-d715fae65fd1"
      },
      "source": [
        "plt.figure(figsize=(12,6),dpi=100);\n",
        "plt.style.use('seaborn');\n",
        "plt.plot(iterations[0:39] , Iteration_loss, color='blue',label='train loss exp given batch');\n",
        "plt.plot(iterations[0:60] , Iteration_loss1, color='red',label='train loss experiment 1');\n",
        "plt.title('loss vs iterations');\n",
        "plt.xlabel('iterations');\n",
        "plt.ylabel('loss');\n",
        "plt.grid(True);\n",
        "plt.legend();\n",
        "plt.show()"
      ],
      "execution_count": 223,
      "outputs": [
        {
          "output_type": "display_data",
          "data": {
            "image/png": "[encoded data removed]",
            "text/plain": [
              "<Figure size 1200x600 with 1 Axes>"
            ]
          },
          "metadata": {}
        }
      ]
    }
  ]
}